{
 "cells": [
  {
   "cell_type": "code",
   "execution_count": 1,
   "id": "cc92e528-7491-495d-94da-e2a7bf319fe4",
   "metadata": {},
   "outputs": [],
   "source": [
    "import matplotlib.pyplot as plt\n",
    "from scipy.io import loadmat\n",
    "import numpy as np\n",
    "import imp\n",
    "import pandas as pd\n",
    "import json\n",
    "import pickle\n",
    "\n",
    "# for fed-meta divide support and query\n",
    "import cwru_meta"
   ]
  },
  {
   "cell_type": "code",
   "execution_count": 2,
   "id": "d0a21c2a-72b5-4753-9ed1-7f6aef319d74",
   "metadata": {},
   "outputs": [
    {
     "name": "stdout",
     "output_type": "stream",
     "text": [
      "Datasets/CWRU 12DriveEndFault ['1772', '1750', '1730', '1797']\n",
      "[['NormalBaseline', '1730', 'Normal', 'http://csegroups.case.edu/sites/default/files/bearingdatacenter/files/Datafiles/100.mat'], ['NormalBaseline', '1750', 'Normal', 'http://csegroups.case.edu/sites/default/files/bearingdatacenter/files/Datafiles/99.mat'], ['NormalBaseline', '1772', 'Normal', 'http://csegroups.case.edu/sites/default/files/bearingdatacenter/files/Datafiles/98.mat'], ['NormalBaseline', '1797', 'Normal', 'http://csegroups.case.edu/sites/default/files/bearingdatacenter/files/Datafiles/97.mat'], ['12DriveEndFault', '1730', '0.007-Ball', 'http://csegroups.case.edu/sites/default/files/bearingdatacenter/files/Datafiles/121.mat'], ['12DriveEndFault', '1750', '0.007-Ball', 'http://csegroups.case.edu/sites/default/files/bearingdatacenter/files/Datafiles/120.mat'], ['12DriveEndFault', '1772', '0.007-Ball', 'http://csegroups.case.edu/sites/default/files/bearingdatacenter/files/Datafiles/119.mat'], ['12DriveEndFault', '1797', '0.007-Ball', 'http://csegroups.case.edu/sites/default/files/bearingdatacenter/files/Datafiles/118.mat'], ['12DriveEndFault', '1730', '0.014-Ball', 'http://csegroups.case.edu/sites/default/files/bearingdatacenter/files/Datafiles/188.mat'], ['12DriveEndFault', '1750', '0.014-Ball', 'http://csegroups.case.edu/sites/default/files/bearingdatacenter/files/Datafiles/187.mat'], ['12DriveEndFault', '1772', '0.014-Ball', 'http://csegroups.case.edu/sites/default/files/bearingdatacenter/files/Datafiles/186.mat'], ['12DriveEndFault', '1797', '0.014-Ball', 'http://csegroups.case.edu/sites/default/files/bearingdatacenter/files/Datafiles/185.mat'], ['12DriveEndFault', '1730', '0.021-Ball', 'http://csegroups.case.edu/sites/default/files/bearingdatacenter/files/Datafiles/225.mat'], ['12DriveEndFault', '1750', '0.021-Ball', 'http://csegroups.case.edu/sites/default/files/bearingdatacenter/files/Datafiles/224.mat'], ['12DriveEndFault', '1772', '0.021-Ball', 'http://csegroups.case.edu/sites/default/files/bearingdatacenter/files/Datafiles/223.mat'], ['12DriveEndFault', '1797', '0.021-Ball', 'http://csegroups.case.edu/sites/default/files/bearingdatacenter/files/Datafiles/222.mat'], ['12DriveEndFault', '1730', '0.007-InnerRace', 'http://csegroups.case.edu/sites/default/files/bearingdatacenter/files/Datafiles/108.mat'], ['12DriveEndFault', '1750', '0.007-InnerRace', 'http://csegroups.case.edu/sites/default/files/bearingdatacenter/files/Datafiles/107.mat'], ['12DriveEndFault', '1772', '0.007-InnerRace', 'http://csegroups.case.edu/sites/default/files/bearingdatacenter/files/Datafiles/106.mat'], ['12DriveEndFault', '1797', '0.007-InnerRace', 'http://csegroups.case.edu/sites/default/files/bearingdatacenter/files/Datafiles/105.mat'], ['12DriveEndFault', '1730', '0.014-InnerRace', 'http://csegroups.case.edu/sites/default/files/bearingdatacenter/files/Datafiles/172.mat'], ['12DriveEndFault', '1750', '0.014-InnerRace', 'http://csegroups.case.edu/sites/default/files/bearingdatacenter/files/Datafiles/171.mat'], ['12DriveEndFault', '1772', '0.014-InnerRace', 'http://csegroups.case.edu/sites/default/files/bearingdatacenter/files/Datafiles/170.mat'], ['12DriveEndFault', '1797', '0.014-InnerRace', 'http://csegroups.case.edu/sites/default/files/bearingdatacenter/files/Datafiles/169.mat'], ['12DriveEndFault', '1730', '0.021-InnerRace', 'http://csegroups.case.edu/sites/default/files/bearingdatacenter/files/Datafiles/212.mat'], ['12DriveEndFault', '1750', '0.021-InnerRace', 'http://csegroups.case.edu/sites/default/files/bearingdatacenter/files/Datafiles/211.mat'], ['12DriveEndFault', '1772', '0.021-InnerRace', 'http://csegroups.case.edu/sites/default/files/bearingdatacenter/files/Datafiles/210.mat'], ['12DriveEndFault', '1797', '0.021-InnerRace', 'http://csegroups.case.edu/sites/default/files/bearingdatacenter/files/Datafiles/209.mat'], ['12DriveEndFault', '1730', '0.007-OuterRace6', 'http://csegroups.case.edu/sites/default/files/bearingdatacenter/files/Datafiles/133.mat'], ['12DriveEndFault', '1750', '0.007-OuterRace6', 'http://csegroups.case.edu/sites/default/files/bearingdatacenter/files/Datafiles/132.mat'], ['12DriveEndFault', '1772', '0.007-OuterRace6', 'http://csegroups.case.edu/sites/default/files/bearingdatacenter/files/Datafiles/131.mat'], ['12DriveEndFault', '1797', '0.007-OuterRace6', 'http://csegroups.case.edu/sites/default/files/bearingdatacenter/files/Datafiles/130.mat'], ['12DriveEndFault', '1730', '0.014-OuterRace6', 'http://csegroups.case.edu/sites/default/files/bearingdatacenter/files/Datafiles/200.mat'], ['12DriveEndFault', '1750', '0.014-OuterRace6', 'http://csegroups.case.edu/sites/default/files/bearingdatacenter/files/Datafiles/199.mat'], ['12DriveEndFault', '1772', '0.014-OuterRace6', 'http://csegroups.case.edu/sites/default/files/bearingdatacenter/files/Datafiles/198.mat'], ['12DriveEndFault', '1797', '0.014-OuterRace6', 'http://csegroups.case.edu/sites/default/files/bearingdatacenter/files/Datafiles/197.mat'], ['12DriveEndFault', '1730', '0.021-OuterRace6', 'http://csegroups.case.edu/sites/default/files/bearingdatacenter/files/Datafiles/237.mat'], ['12DriveEndFault', '1750', '0.021-OuterRace6', 'http://csegroups.case.edu/sites/default/files/bearingdatacenter/files/Datafiles/236.mat'], ['12DriveEndFault', '1772', '0.021-OuterRace6', 'http://csegroups.case.edu/sites/default/files/bearingdatacenter/files/Datafiles/235.mat'], ['12DriveEndFault', '1797', '0.021-OuterRace6', 'http://csegroups.case.edu/sites/default/files/bearingdatacenter/files/Datafiles/234.mat']]\n",
      "info: ['NormalBaseline', '1730', 'Normal', 'http://csegroups.case.edu/sites/default/files/bearingdatacenter/files/Datafiles/100.mat']\n",
      "0 Datasets/CWRU/NormalBaseline/1730/Normal.mat\n",
      "(485643, 2)\n",
      "info: ['NormalBaseline', '1750', 'Normal', 'http://csegroups.case.edu/sites/default/files/bearingdatacenter/files/Datafiles/99.mat']\n",
      "1 Datasets/CWRU/NormalBaseline/1750/Normal.mat\n",
      "dict_keys(['__header__', '__version__', '__globals__', 'ans', 'X098_DE_time', 'X098_FE_time', 'X099_DE_time', 'X099_FE_time'])\n",
      "(483903, 2)\n",
      "info: ['NormalBaseline', '1772', 'Normal', 'http://csegroups.case.edu/sites/default/files/bearingdatacenter/files/Datafiles/98.mat']\n",
      "2 Datasets/CWRU/NormalBaseline/1772/Normal.mat\n",
      "(483903, 2)\n",
      "info: ['NormalBaseline', '1797', 'Normal', 'http://csegroups.case.edu/sites/default/files/bearingdatacenter/files/Datafiles/97.mat']\n",
      "3 Datasets/CWRU/NormalBaseline/1797/Normal.mat\n",
      "(243938, 2)\n",
      "info: ['12DriveEndFault', '1730', '0.007-Ball', 'http://csegroups.case.edu/sites/default/files/bearingdatacenter/files/Datafiles/121.mat']\n",
      "4 Datasets/CWRU/12DriveEndFault/1730/0.007-Ball.mat\n",
      "(121556, 2)\n",
      "info: ['12DriveEndFault', '1750', '0.007-Ball', 'http://csegroups.case.edu/sites/default/files/bearingdatacenter/files/Datafiles/120.mat']\n",
      "5 Datasets/CWRU/12DriveEndFault/1750/0.007-Ball.mat\n",
      "(121556, 2)\n",
      "info: ['12DriveEndFault', '1772', '0.007-Ball', 'http://csegroups.case.edu/sites/default/files/bearingdatacenter/files/Datafiles/119.mat']\n",
      "6 Datasets/CWRU/12DriveEndFault/1772/0.007-Ball.mat\n",
      "(121410, 2)\n",
      "info: ['12DriveEndFault', '1797', '0.007-Ball', 'http://csegroups.case.edu/sites/default/files/bearingdatacenter/files/Datafiles/118.mat']\n",
      "7 Datasets/CWRU/12DriveEndFault/1797/0.007-Ball.mat\n",
      "(122571, 2)\n",
      "info: ['12DriveEndFault', '1730', '0.014-Ball', 'http://csegroups.case.edu/sites/default/files/bearingdatacenter/files/Datafiles/188.mat']\n",
      "8 Datasets/CWRU/12DriveEndFault/1730/0.014-Ball.mat\n",
      "(122136, 2)\n",
      "info: ['12DriveEndFault', '1750', '0.014-Ball', 'http://csegroups.case.edu/sites/default/files/bearingdatacenter/files/Datafiles/187.mat']\n",
      "9 Datasets/CWRU/12DriveEndFault/1750/0.014-Ball.mat\n",
      "(121991, 2)\n",
      "info: ['12DriveEndFault', '1772', '0.014-Ball', 'http://csegroups.case.edu/sites/default/files/bearingdatacenter/files/Datafiles/186.mat']\n",
      "10 Datasets/CWRU/12DriveEndFault/1772/0.014-Ball.mat\n",
      "(122136, 2)\n",
      "info: ['12DriveEndFault', '1797', '0.014-Ball', 'http://csegroups.case.edu/sites/default/files/bearingdatacenter/files/Datafiles/185.mat']\n",
      "11 Datasets/CWRU/12DriveEndFault/1797/0.014-Ball.mat\n",
      "(121846, 2)\n",
      "info: ['12DriveEndFault', '1730', '0.021-Ball', 'http://csegroups.case.edu/sites/default/files/bearingdatacenter/files/Datafiles/225.mat']\n",
      "12 Datasets/CWRU/12DriveEndFault/1730/0.021-Ball.mat\n",
      "(122136, 2)\n",
      "info: ['12DriveEndFault', '1750', '0.021-Ball', 'http://csegroups.case.edu/sites/default/files/bearingdatacenter/files/Datafiles/224.mat']\n",
      "13 Datasets/CWRU/12DriveEndFault/1750/0.021-Ball.mat\n",
      "(122136, 2)\n",
      "info: ['12DriveEndFault', '1772', '0.021-Ball', 'http://csegroups.case.edu/sites/default/files/bearingdatacenter/files/Datafiles/223.mat']\n",
      "14 Datasets/CWRU/12DriveEndFault/1772/0.021-Ball.mat\n",
      "(121701, 2)\n",
      "info: ['12DriveEndFault', '1797', '0.021-Ball', 'http://csegroups.case.edu/sites/default/files/bearingdatacenter/files/Datafiles/222.mat']\n",
      "15 Datasets/CWRU/12DriveEndFault/1797/0.021-Ball.mat\n",
      "(121991, 2)\n",
      "info: ['12DriveEndFault', '1730', '0.007-InnerRace', 'http://csegroups.case.edu/sites/default/files/bearingdatacenter/files/Datafiles/108.mat']\n",
      "16 Datasets/CWRU/12DriveEndFault/1730/0.007-InnerRace.mat\n",
      "(122917, 2)\n",
      "info: ['12DriveEndFault', '1750', '0.007-InnerRace', 'http://csegroups.case.edu/sites/default/files/bearingdatacenter/files/Datafiles/107.mat']\n",
      "17 Datasets/CWRU/12DriveEndFault/1750/0.007-InnerRace.mat\n",
      "(122136, 2)\n",
      "info: ['12DriveEndFault', '1772', '0.007-InnerRace', 'http://csegroups.case.edu/sites/default/files/bearingdatacenter/files/Datafiles/106.mat']\n",
      "18 Datasets/CWRU/12DriveEndFault/1772/0.007-InnerRace.mat\n",
      "(121991, 2)\n",
      "info: ['12DriveEndFault', '1797', '0.007-InnerRace', 'http://csegroups.case.edu/sites/default/files/bearingdatacenter/files/Datafiles/105.mat']\n",
      "19 Datasets/CWRU/12DriveEndFault/1797/0.007-InnerRace.mat\n",
      "(121265, 2)\n",
      "info: ['12DriveEndFault', '1730', '0.014-InnerRace', 'http://csegroups.case.edu/sites/default/files/bearingdatacenter/files/Datafiles/172.mat']\n",
      "20 Datasets/CWRU/12DriveEndFault/1730/0.014-InnerRace.mat\n",
      "(121701, 2)\n",
      "info: ['12DriveEndFault', '1750', '0.014-InnerRace', 'http://csegroups.case.edu/sites/default/files/bearingdatacenter/files/Datafiles/171.mat']\n",
      "21 Datasets/CWRU/12DriveEndFault/1750/0.014-InnerRace.mat\n",
      "(121846, 2)\n",
      "info: ['12DriveEndFault', '1772', '0.014-InnerRace', 'http://csegroups.case.edu/sites/default/files/bearingdatacenter/files/Datafiles/170.mat']\n",
      "22 Datasets/CWRU/12DriveEndFault/1772/0.014-InnerRace.mat\n",
      "(121846, 2)\n",
      "info: ['12DriveEndFault', '1797', '0.014-InnerRace', 'http://csegroups.case.edu/sites/default/files/bearingdatacenter/files/Datafiles/169.mat']\n",
      "23 Datasets/CWRU/12DriveEndFault/1797/0.014-InnerRace.mat\n",
      "(121846, 2)\n",
      "info: ['12DriveEndFault', '1730', '0.021-InnerRace', 'http://csegroups.case.edu/sites/default/files/bearingdatacenter/files/Datafiles/212.mat']\n",
      "24 Datasets/CWRU/12DriveEndFault/1730/0.021-InnerRace.mat\n",
      "(121991, 2)\n",
      "info: ['12DriveEndFault', '1750', '0.021-InnerRace', 'http://csegroups.case.edu/sites/default/files/bearingdatacenter/files/Datafiles/211.mat']\n",
      "25 Datasets/CWRU/12DriveEndFault/1750/0.021-InnerRace.mat\n",
      "(121846, 2)\n",
      "info: ['12DriveEndFault', '1772', '0.021-InnerRace', 'http://csegroups.case.edu/sites/default/files/bearingdatacenter/files/Datafiles/210.mat']\n",
      "26 Datasets/CWRU/12DriveEndFault/1772/0.021-InnerRace.mat\n",
      "(121556, 2)\n",
      "info: ['12DriveEndFault', '1797', '0.021-InnerRace', 'http://csegroups.case.edu/sites/default/files/bearingdatacenter/files/Datafiles/209.mat']\n",
      "27 Datasets/CWRU/12DriveEndFault/1797/0.021-InnerRace.mat\n",
      "(122136, 2)\n",
      "info: ['12DriveEndFault', '1730', '0.007-OuterRace6', 'http://csegroups.case.edu/sites/default/files/bearingdatacenter/files/Datafiles/133.mat']\n",
      "28 Datasets/CWRU/12DriveEndFault/1730/0.007-OuterRace6.mat\n",
      "(122571, 2)\n",
      "info: ['12DriveEndFault', '1750', '0.007-OuterRace6', 'http://csegroups.case.edu/sites/default/files/bearingdatacenter/files/Datafiles/132.mat']\n",
      "29 Datasets/CWRU/12DriveEndFault/1750/0.007-OuterRace6.mat\n",
      "(121410, 2)\n",
      "info: ['12DriveEndFault', '1772', '0.007-OuterRace6', 'http://csegroups.case.edu/sites/default/files/bearingdatacenter/files/Datafiles/131.mat']\n",
      "30 Datasets/CWRU/12DriveEndFault/1772/0.007-OuterRace6.mat\n",
      "(122426, 2)\n",
      "info: ['12DriveEndFault', '1797', '0.007-OuterRace6', 'http://csegroups.case.edu/sites/default/files/bearingdatacenter/files/Datafiles/130.mat']\n",
      "31 Datasets/CWRU/12DriveEndFault/1797/0.007-OuterRace6.mat\n",
      "(121991, 2)\n",
      "info: ['12DriveEndFault', '1730', '0.014-OuterRace6', 'http://csegroups.case.edu/sites/default/files/bearingdatacenter/files/Datafiles/200.mat']\n",
      "32 Datasets/CWRU/12DriveEndFault/1730/0.014-OuterRace6.mat\n",
      "(121991, 2)\n",
      "info: ['12DriveEndFault', '1750', '0.014-OuterRace6', 'http://csegroups.case.edu/sites/default/files/bearingdatacenter/files/Datafiles/199.mat']\n",
      "33 Datasets/CWRU/12DriveEndFault/1750/0.014-OuterRace6.mat\n",
      "(121846, 2)\n",
      "info: ['12DriveEndFault', '1772', '0.014-OuterRace6', 'http://csegroups.case.edu/sites/default/files/bearingdatacenter/files/Datafiles/198.mat']\n",
      "34 Datasets/CWRU/12DriveEndFault/1772/0.014-OuterRace6.mat\n",
      "(122136, 2)\n",
      "info: ['12DriveEndFault', '1797', '0.014-OuterRace6', 'http://csegroups.case.edu/sites/default/files/bearingdatacenter/files/Datafiles/197.mat']\n",
      "35 Datasets/CWRU/12DriveEndFault/1797/0.014-OuterRace6.mat\n",
      "(121846, 2)\n",
      "info: ['12DriveEndFault', '1730', '0.021-OuterRace6', 'http://csegroups.case.edu/sites/default/files/bearingdatacenter/files/Datafiles/237.mat']\n",
      "36 Datasets/CWRU/12DriveEndFault/1730/0.021-OuterRace6.mat\n",
      "(121991, 2)\n",
      "info: ['12DriveEndFault', '1750', '0.021-OuterRace6', 'http://csegroups.case.edu/sites/default/files/bearingdatacenter/files/Datafiles/236.mat']\n",
      "37 Datasets/CWRU/12DriveEndFault/1750/0.021-OuterRace6.mat\n",
      "(122281, 2)\n",
      "info: ['12DriveEndFault', '1772', '0.021-OuterRace6', 'http://csegroups.case.edu/sites/default/files/bearingdatacenter/files/Datafiles/235.mat']\n",
      "38 Datasets/CWRU/12DriveEndFault/1772/0.021-OuterRace6.mat\n",
      "(121991, 2)\n",
      "info: ['12DriveEndFault', '1797', '0.021-OuterRace6', 'http://csegroups.case.edu/sites/default/files/bearingdatacenter/files/Datafiles/234.mat']\n",
      "39 Datasets/CWRU/12DriveEndFault/1797/0.021-OuterRace6.mat\n",
      "(122426, 2)\n"
     ]
    }
   ],
   "source": [
    "window_size=392\n",
    "data = cwru_meta.CWRU(['12DriveEndFault'], ['1772', '1750', '1730','1797'], window_size)"
   ]
  },
  {
   "cell_type": "code",
   "execution_count": 3,
   "id": "deda87f5-12ca-49e3-9dee-1bef7b0c31e2",
   "metadata": {},
   "outputs": [
    {
     "data": {
      "text/plain": [
       "(10,\n",
       " [('NormalBaselineNormal', 0),\n",
       "  ('12DriveEndFault0.007-Ball', 1),\n",
       "  ('12DriveEndFault0.014-Ball', 2),\n",
       "  ('12DriveEndFault0.021-Ball', 3),\n",
       "  ('12DriveEndFault0.007-InnerRace', 4),\n",
       "  ('12DriveEndFault0.014-InnerRace', 5),\n",
       "  ('12DriveEndFault0.021-InnerRace', 6),\n",
       "  ('12DriveEndFault0.007-OuterRace6', 7),\n",
       "  ('12DriveEndFault0.014-OuterRace6', 8),\n",
       "  ('12DriveEndFault0.021-OuterRace6', 9)],\n",
       " 14000,\n",
       " 14000,\n",
       " 14000,\n",
       " 14000)"
      ]
     },
     "execution_count": 3,
     "metadata": {},
     "output_type": "execute_result"
    }
   ],
   "source": [
    "data.nclasses,data.classes,len(data.T1_X_train),len(data.T2_X_train),len(data.T3_X_train),len(data.T4_X_train)"
   ]
  },
  {
   "cell_type": "code",
   "execution_count": 4,
   "id": "87f2bf67-d0bb-4143-a015-5077016ad2b3",
   "metadata": {},
   "outputs": [
    {
     "data": {
      "text/plain": [
       "{0, 1, 2, 3, 4, 5, 6, 7, 8, 9}"
      ]
     },
     "execution_count": 4,
     "metadata": {},
     "output_type": "execute_result"
    }
   ],
   "source": [
    "set(data.T1_y_train)"
   ]
  },
  {
   "cell_type": "code",
   "execution_count": 5,
   "id": "f2a9da11-4ad4-4086-8821-ab7a6ea8154a",
   "metadata": {},
   "outputs": [
    {
     "data": {
      "text/plain": [
       "8"
      ]
     },
     "execution_count": 5,
     "metadata": {},
     "output_type": "execute_result"
    }
   ],
   "source": [
    "data.T1_y_train[0]"
   ]
  },
  {
   "cell_type": "code",
   "execution_count": null,
   "id": "ae4610e3-f32e-4804-84f0-f44418fe43a9",
   "metadata": {},
   "outputs": [],
   "source": [
    "data.T1_X_train[0]"
   ]
  },
  {
   "cell_type": "code",
   "execution_count": 7,
   "id": "ae74f121-d31b-4e71-bc8e-1088a4ba21b5",
   "metadata": {},
   "outputs": [],
   "source": [
    "data.T1_X_train = data.T1_X_train.reshape(14000,784)\n",
    "data.T2_X_train = data.T2_X_train.reshape(14000,784)\n",
    "data.T3_X_train = data.T3_X_train.reshape(14000,784)\n",
    "data.T4_X_train = data.T4_X_train.reshape(14000,784)"
   ]
  },
  {
   "cell_type": "code",
   "execution_count": 8,
   "id": "400c26e8-3c92-4b76-a8a8-efab82082f90",
   "metadata": {},
   "outputs": [],
   "source": [
    "import pandas as pd"
   ]
  },
  {
   "cell_type": "code",
   "execution_count": 9,
   "id": "3b199b19-d667-4d97-a0fe-ef789ec3f6d4",
   "metadata": {},
   "outputs": [
    {
     "data": {
      "text/plain": [
       "numpy.ndarray"
      ]
     },
     "execution_count": 9,
     "metadata": {},
     "output_type": "execute_result"
    }
   ],
   "source": [
    "type(data.T1_X_train)"
   ]
  },
  {
   "cell_type": "code",
   "execution_count": 10,
   "id": "376848a5-077e-47bd-b79d-8313da8fee5a",
   "metadata": {},
   "outputs": [
    {
     "data": {
      "text/plain": [
       "numpy.ndarray"
      ]
     },
     "execution_count": 10,
     "metadata": {},
     "output_type": "execute_result"
    }
   ],
   "source": [
    "type(data.T1_y_train)"
   ]
  },
  {
   "cell_type": "code",
   "execution_count": 11,
   "id": "dc481a21-3ba6-4887-a034-c96ad9a8a4a2",
   "metadata": {},
   "outputs": [
    {
     "data": {
      "text/plain": [
       "array([ 8.44861078e-02,  1.33545455e-02, -6.93833533e-02,  6.69781818e-02,\n",
       "        5.12762874e-02, -2.69145455e-02,  4.99771257e-02, -8.01272727e-03,\n",
       "       -1.25856287e-02,  1.42790909e-01,  3.05708982e-02, -2.87636364e-03,\n",
       "        5.39964072e-02, -1.63541818e-01,  6.72722156e-02,  2.65858182e-01,\n",
       "        2.77695808e-02,  1.07863636e-01,  2.61862275e-02, -1.59021818e-01,\n",
       "        1.47779641e-02,  3.46190909e-01, -6.20349701e-02,  1.41763636e-02,\n",
       "       -9.41486228e-02, -2.01961818e-01, -2.84191617e-04,  2.29081818e-01,\n",
       "        1.90002395e-02,  6.80054545e-02, -1.46115090e-01, -1.12794545e-01,\n",
       "       -1.67267066e-02,  1.02727273e-01,  1.55006228e-01,  3.34890909e-02,\n",
       "        9.21592814e-03, -9.40981818e-02, -1.20253653e-01,  1.79567273e-01,\n",
       "        1.18629701e-01, -3.55436364e-02,  1.83303593e-01, -6.75945455e-02,\n",
       "       -8.05480240e-02,  1.57172727e-01,  1.07505629e-01, -1.23272727e-01,\n",
       "        1.83912575e-01,  4.19127273e-02, -3.64577246e-02,  1.33134545e-01,\n",
       "       -3.12610778e-03, -1.48338182e-01,  8.37553293e-02,  3.12290909e-02,\n",
       "       -9.90610778e-02,  2.37916364e-01, -1.28292216e-01, -1.35805455e-01,\n",
       "        7.60415569e-02, -2.89690909e-02, -1.68079042e-02,  2.94827273e-01,\n",
       "       -4.31159281e-02, -1.08274545e-01,  1.10550539e-01, -2.26000000e-02,\n",
       "        7.93300599e-02,  1.78334545e-01, -2.84191617e-02,  5.67054545e-02,\n",
       "       -8.56634731e-03,  5.05418182e-02,  8.39989222e-02, -3.20509091e-02,\n",
       "        2.40750898e-02,  6.94436364e-02, -5.58639521e-02,  1.28203636e-01,\n",
       "        9.77213174e-02, -5.30072727e-02,  9.33772455e-02,  2.73254545e-02,\n",
       "        1.45749701e-02,  3.04689091e-01,  2.16797605e-02, -8.17709091e-02,\n",
       "       -2.19639521e-02, -1.09301818e-01,  6.17101796e-02,  3.56258182e-01,\n",
       "        7.77467066e-02, -1.19780000e-01, -3.67013174e-02, -8.32090909e-02,\n",
       "        1.62395210e-03,  2.93800000e-01,  1.63044790e-01, -6.67727273e-02])"
      ]
     },
     "execution_count": 11,
     "metadata": {},
     "output_type": "execute_result"
    }
   ],
   "source": [
    "data.T1_X_train[0][:100]"
   ]
  },
  {
   "cell_type": "code",
   "execution_count": null,
   "id": "09186b04-a2fd-4ab3-b9d1-b98351bc2443",
   "metadata": {},
   "outputs": [],
   "source": [
    "# T1"
   ]
  },
  {
   "cell_type": "code",
   "execution_count": 12,
   "id": "daf3b6d2-ee95-4689-baf3-9c1caaa7f04c",
   "metadata": {},
   "outputs": [],
   "source": [
    "T1_train = np.zeros((14000,785))"
   ]
  },
  {
   "cell_type": "code",
   "execution_count": 13,
   "id": "bbe88ebb-c909-45ab-b5c0-b9b535499295",
   "metadata": {},
   "outputs": [],
   "source": [
    "for i in range(14000):\n",
    "    T1_train[i][0] = data.T1_y_train[i]\n",
    "    T1_train[i][1:] = data.T1_X_train[i]"
   ]
  },
  {
   "cell_type": "code",
   "execution_count": 14,
   "id": "56cfc590-589e-41d8-8966-06601d3f38b0",
   "metadata": {},
   "outputs": [
    {
     "data": {
      "text/plain": [
       "(14000, 785)"
      ]
     },
     "execution_count": 14,
     "metadata": {},
     "output_type": "execute_result"
    }
   ],
   "source": [
    "T1_train.shape"
   ]
  },
  {
   "cell_type": "code",
   "execution_count": 15,
   "id": "d1c50958-1d9a-42f2-afc7-09e4f702a77b",
   "metadata": {},
   "outputs": [
    {
     "data": {
      "text/plain": [
       "8.0"
      ]
     },
     "execution_count": 15,
     "metadata": {},
     "output_type": "execute_result"
    }
   ],
   "source": [
    "T1_train[0][0]"
   ]
  },
  {
   "cell_type": "code",
   "execution_count": 16,
   "id": "26732c97-7027-4068-8d5a-809de67f2db1",
   "metadata": {},
   "outputs": [],
   "source": [
    "# T2\n",
    "T2_train = np.zeros((14000,785))\n",
    "for i in range(14000):\n",
    "    T2_train[i][0] = data.T2_y_train[i]\n",
    "    T2_train[i][1:] = data.T2_X_train[i]"
   ]
  },
  {
   "cell_type": "code",
   "execution_count": 17,
   "id": "d3973dd1-9993-4d7f-b3ea-5166243f397d",
   "metadata": {},
   "outputs": [
    {
     "data": {
      "text/plain": [
       "(14000, 785)"
      ]
     },
     "execution_count": 17,
     "metadata": {},
     "output_type": "execute_result"
    }
   ],
   "source": [
    "T2_train.shape"
   ]
  },
  {
   "cell_type": "code",
   "execution_count": 18,
   "id": "300a261f-b95c-44fa-9ece-72704daf9541",
   "metadata": {},
   "outputs": [],
   "source": [
    "# T3\n",
    "T3_train = np.zeros((14000,785))\n",
    "for i in range(14000):\n",
    "    T3_train[i][0] = data.T3_y_train[i]\n",
    "    T3_train[i][1:] = data.T3_X_train[i]"
   ]
  },
  {
   "cell_type": "code",
   "execution_count": 19,
   "id": "bc44a5cf-03c4-4406-a3a7-7965f4c19473",
   "metadata": {},
   "outputs": [],
   "source": [
    "# T4\n",
    "T4_train = np.zeros((14000,785))\n",
    "for i in range(14000):\n",
    "    T4_train[i][0] = data.T4_y_train[i]\n",
    "    T4_train[i][1:] = data.T4_X_train[i]"
   ]
  },
  {
   "cell_type": "code",
   "execution_count": 20,
   "id": "773757da-ed8e-4f4a-87b4-408a7e1836cf",
   "metadata": {},
   "outputs": [
    {
     "data": {
      "text/plain": [
       "0"
      ]
     },
     "execution_count": 20,
     "metadata": {},
     "output_type": "execute_result"
    }
   ],
   "source": [
    "data.T2_y_train[10]"
   ]
  },
  {
   "cell_type": "code",
   "execution_count": 21,
   "id": "7c45effb-e252-4881-a57c-f6225ed1b8cd",
   "metadata": {},
   "outputs": [
    {
     "data": {
      "text/plain": [
       "0.0"
      ]
     },
     "execution_count": 21,
     "metadata": {},
     "output_type": "execute_result"
    }
   ],
   "source": [
    "T2_train[10][0]"
   ]
  },
  {
   "cell_type": "code",
   "execution_count": 22,
   "id": "3866fdda-220e-4e56-959c-f9ced55fbd3a",
   "metadata": {},
   "outputs": [
    {
     "data": {
      "text/plain": [
       "0"
      ]
     },
     "execution_count": 22,
     "metadata": {},
     "output_type": "execute_result"
    }
   ],
   "source": [
    "data.T3_y_train[10]"
   ]
  },
  {
   "cell_type": "code",
   "execution_count": 23,
   "id": "c0a46414-01a8-484c-9f66-01118abf3bcf",
   "metadata": {},
   "outputs": [
    {
     "data": {
      "text/plain": [
       "0.0"
      ]
     },
     "execution_count": 23,
     "metadata": {},
     "output_type": "execute_result"
    }
   ],
   "source": [
    "T3_train[10][0]"
   ]
  },
  {
   "cell_type": "code",
   "execution_count": 24,
   "id": "c668e7f9-f02b-41f2-bde9-deb7360fb96c",
   "metadata": {},
   "outputs": [
    {
     "data": {
      "text/plain": [
       "0.0"
      ]
     },
     "execution_count": 24,
     "metadata": {},
     "output_type": "execute_result"
    }
   ],
   "source": [
    "T4_train[10][0]"
   ]
  },
  {
   "cell_type": "code",
   "execution_count": 25,
   "id": "943fa4c3-dd5c-4818-954d-225ca695fad1",
   "metadata": {},
   "outputs": [
    {
     "data": {
      "text/plain": [
       "0"
      ]
     },
     "execution_count": 25,
     "metadata": {},
     "output_type": "execute_result"
    }
   ],
   "source": [
    "data.T4_y_train[10]"
   ]
  },
  {
   "cell_type": "code",
   "execution_count": 26,
   "id": "38f3e5c5-0992-4e8f-aa82-90fdc0b3f57c",
   "metadata": {},
   "outputs": [],
   "source": [
    "Train = np.vstack((T1_train,T2_train,T3_train))"
   ]
  },
  {
   "cell_type": "code",
   "execution_count": 27,
   "id": "486a85a2-b205-4832-9790-262f93ce9293",
   "metadata": {},
   "outputs": [
    {
     "data": {
      "text/plain": [
       "(42000, 785)"
      ]
     },
     "execution_count": 27,
     "metadata": {},
     "output_type": "execute_result"
    }
   ],
   "source": [
    "Train.shape"
   ]
  },
  {
   "cell_type": "code",
   "execution_count": 55,
   "id": "cac7c5c4-91f6-41be-8d69-bae3ce7a3fe6",
   "metadata": {},
   "outputs": [],
   "source": [
    "# save Train and test\n",
    "np.savetxt('cwru_train.csv', T1_train, delimiter=',')"
   ]
  },
  {
   "cell_type": "code",
   "execution_count": 56,
   "id": "439fd161-96ac-4a4d-b3ee-464193578f03",
   "metadata": {},
   "outputs": [],
   "source": [
    "np.savetxt('cwru_test.csv', T3_train, delimiter=',')"
   ]
  }
 ],
 "metadata": {
  "kernelspec": {
   "display_name": "meta_fd",
   "language": "python",
   "name": "meta_fd"
  },
  "language_info": {
   "codemirror_mode": {
    "name": "ipython",
    "version": 3
   },
   "file_extension": ".py",
   "mimetype": "text/x-python",
   "name": "python",
   "nbconvert_exporter": "python",
   "pygments_lexer": "ipython3",
   "version": "3.7.11"
  }
 },
 "nbformat": 4,
 "nbformat_minor": 5
}
