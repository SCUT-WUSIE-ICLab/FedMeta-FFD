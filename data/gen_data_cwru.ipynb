{
 "cells": [
  {
   "cell_type": "code",
   "execution_count": 1,
   "id": "d473e98c-d6b2-47ad-a589-d83807acc871",
   "metadata": {},
   "outputs": [],
   "source": [
    "import pandas as pd\n",
    "import numpy as np\n",
    "import json\n",
    "import matplotlib.pyplot as plt"
   ]
  },
  {
   "cell_type": "code",
   "execution_count": 2,
   "id": "83cbe461-516d-4473-ab81-c6c82c025de1",
   "metadata": {},
   "outputs": [
    {
     "data": {
      "text/plain": [
       "(28000, 785)"
      ]
     },
     "execution_count": 2,
     "metadata": {},
     "output_type": "execute_result"
    }
   ],
   "source": [
    "df_train = pd.read_csv('./cwru_train.csv',header=None)\n",
    "df_test = pd.read_csv('./cwru_test.csv',header=None)\n",
    "df = pd.concat([df_train, df_test], axis=0)\n",
    "df.shape"
   ]
  },
  {
   "cell_type": "code",
   "execution_count": 3,
   "id": "d3541f53-6ca1-4c82-b07e-e745af8233cb",
   "metadata": {},
   "outputs": [
    {
     "data": {
      "text/plain": [
       "(28000, 785)"
      ]
     },
     "execution_count": 3,
     "metadata": {},
     "output_type": "execute_result"
    }
   ],
   "source": [
    "all_data = df.to_numpy()\n",
    "all_data.shape"
   ]
  },
  {
   "cell_type": "code",
   "execution_count": 4,
   "id": "30ae7e6c-d8e1-4b63-b2a2-21ee13e442ba",
   "metadata": {},
   "outputs": [
    {
     "data": {
      "text/plain": [
       "((28000, 784), (28000,))"
      ]
     },
     "execution_count": 4,
     "metadata": {},
     "output_type": "execute_result"
    }
   ],
   "source": [
    "X = all_data[:, 1:]\n",
    "y = all_data[:, 0]\n",
    "X.shape, y.shape"
   ]
  },
  {
   "cell_type": "code",
   "execution_count": 5,
   "id": "c53a2a52-6acf-4d11-a86a-5556c5332182",
   "metadata": {},
   "outputs": [
    {
     "name": "stdout",
     "output_type": "stream",
     "text": [
      "8.0\n"
     ]
    }
   ],
   "source": [
    "print(y[0])"
   ]
  },
  {
   "cell_type": "code",
   "execution_count": 6,
   "id": "0ed17699-14c0-450e-81a9-ee5edede7d34",
   "metadata": {},
   "outputs": [
    {
     "data": {
      "text/plain": [
       "<BarContainer object of 10 artists>"
      ]
     },
     "execution_count": 6,
     "metadata": {},
     "output_type": "execute_result"
    },
    {
     "data": {
      "image/png": "[encoded data removed]",
      "text/plain": [
       "<Figure size 432x288 with 1 Axes>"
      ]
     },
     "metadata": {
      "needs_background": "light"
     },
     "output_type": "display_data"
    }
   ],
   "source": [
    "data_by_label = {}\n",
    "for i in set(y):\n",
    "    data_by_label[i] = []\n",
    "for i, item in enumerate(y):\n",
    "    data_by_label[item].append(X[i].tolist())\n",
    "\n",
    "plt.bar(x=list(data_by_label.keys()), height=[len(data_by_label[key]) for key in data_by_label.keys()])"
   ]
  },
  {
   "cell_type": "code",
   "execution_count": 7,
   "id": "2d2719d4-ffc2-47c9-a1bc-962a59ed38b9",
   "metadata": {},
   "outputs": [
    {
     "data": {
      "text/plain": [
       "10"
      ]
     },
     "execution_count": 7,
     "metadata": {},
     "output_type": "execute_result"
    }
   ],
   "source": [
    "NUM_USER = 50\n",
    "NUM_LABEL_PER_USER = 2\n",
    "NUM_LABEL = 10\n",
    "INTERVAL = int(NUM_USER*NUM_LABEL_PER_USER/NUM_LABEL)\n",
    "INTERVAL"
   ]
  },
  {
   "cell_type": "code",
   "execution_count": 8,
   "id": "5deabf46-7dc9-4d29-b229-4488b1be366d",
   "metadata": {},
   "outputs": [
    {
     "data": {
      "text/plain": [
       "[[1315, 370, 497, 128, 181, 103, 23, 80, 25, 78],\n",
       " [383, 1191, 182, 331, 345, 53, 129, 34, 33, 119],\n",
       " [1161, 401, 602, 213, 195, 34, 67, 15, 33, 79],\n",
       " [1255, 643, 434, 128, 167, 22, 74, 29, 5, 43],\n",
       " [570, 411, 429, 557, 196, 87, 121, 170, 93, 166],\n",
       " [769, 976, 138, 159, 94, 169, 160, 71, 106, 158],\n",
       " [269, 426, 216, 538, 593, 350, 190, 41, 25, 152],\n",
       " [1253, 266, 395, 436, 195, 60, 74, 30, 16, 75],\n",
       " [1005, 250, 383, 453, 138, 241, 76, 55, 41, 158],\n",
       " [949, 489, 492, 412, 44, 165, 99, 19, 63, 68]]"
      ]
     },
     "execution_count": 8,
     "metadata": {},
     "output_type": "execute_result"
    }
   ],
   "source": [
    "np.random.seed(1)\n",
    "range_in_label = []\n",
    "\n",
    "for i in range(NUM_LABEL):\n",
    "    tmp = []\n",
    "    total = len(data_by_label[i])\n",
    "    for j in range(INTERVAL-1):\n",
    "        val = np.random.randint(total//(INTERVAL + 1), total//2)\n",
    "        tmp.append(val)\n",
    "        total -= val\n",
    "    tmp.append(total)\n",
    "    range_in_label.append(tmp)\n",
    "\n",
    "range_in_label"
   ]
  },
  {
   "cell_type": "code",
   "execution_count": 9,
   "id": "89acb71e-ba78-4094-b92b-e9bb5d16ccb4",
   "metadata": {},
   "outputs": [
    {
     "name": "stdout",
     "output_type": "stream",
     "text": [
      "1191 + 1161 = 2352\n",
      "1191 + 401 = 1592\n",
      "1191 + 602 = 1793\n",
      "1191 + 213 = 1404\n",
      "1191 + 195 = 1386\n",
      "1191 + 34 = 1225\n",
      "1191 + 67 = 1258\n",
      "1191 + 15 = 1206\n",
      "1191 + 33 = 1224\n",
      "1191 + 79 = 1270\n",
      "\n",
      "182 + 1161 = 1343\n",
      "182 + 401 = 583\n",
      "182 + 602 = 784\n",
      "182 + 213 = 395\n",
      "182 + 195 = 377\n",
      "182 + 34 = 216\n",
      "182 + 67 = 249\n",
      "182 + 15 = 197\n",
      "182 + 33 = 215\n",
      "182 + 79 = 261\n",
      "\n",
      "331 + 1161 = 1492\n",
      "331 + 401 = 732\n",
      "331 + 602 = 933\n",
      "331 + 213 = 544\n",
      "331 + 195 = 526\n",
      "331 + 34 = 365\n",
      "331 + 67 = 398\n",
      "331 + 15 = 346\n",
      "331 + 33 = 364\n",
      "331 + 79 = 410\n",
      "\n",
      "345 + 1161 = 1506\n",
      "345 + 401 = 746\n",
      "345 + 602 = 947\n",
      "345 + 213 = 558\n",
      "345 + 195 = 540\n",
      "345 + 34 = 379\n",
      "345 + 67 = 412\n",
      "345 + 15 = 360\n",
      "345 + 33 = 378\n",
      "345 + 79 = 424\n",
      "\n",
      "53 + 1161 = 1214\n",
      "53 + 401 = 454\n",
      "53 + 602 = 655\n",
      "53 + 213 = 266\n",
      "53 + 195 = 248\n",
      "53 + 34 = 87\n",
      "53 + 67 = 120\n",
      "53 + 15 = 68\n",
      "53 + 33 = 86\n",
      "53 + 79 = 132\n",
      "\n",
      "129 + 1161 = 1290\n",
      "129 + 401 = 530\n",
      "129 + 602 = 731\n",
      "129 + 213 = 342\n",
      "129 + 195 = 324\n",
      "129 + 34 = 163\n",
      "129 + 67 = 196\n",
      "129 + 15 = 144\n",
      "129 + 33 = 162\n",
      "129 + 79 = 208\n",
      "\n",
      "34 + 1161 = 1195\n",
      "34 + 401 = 435\n",
      "34 + 602 = 636\n",
      "34 + 213 = 247\n",
      "34 + 195 = 229\n",
      "34 + 34 = 68\n",
      "34 + 67 = 101\n",
      "34 + 15 = 49\n",
      "34 + 33 = 67\n",
      "34 + 79 = 113\n",
      "\n",
      "33 + 1161 = 1194\n",
      "33 + 401 = 434\n",
      "33 + 602 = 635\n",
      "33 + 213 = 246\n",
      "33 + 195 = 228\n",
      "33 + 34 = 67\n",
      "33 + 67 = 100\n",
      "33 + 15 = 48\n",
      "33 + 33 = 66\n",
      "33 + 79 = 112\n",
      "\n",
      "119 + 1161 = 1280\n",
      "119 + 401 = 520\n",
      "119 + 602 = 721\n",
      "119 + 213 = 332\n",
      "119 + 195 = 314\n",
      "119 + 34 = 153\n",
      "119 + 67 = 186\n",
      "119 + 15 = 134\n",
      "119 + 33 = 152\n",
      "119 + 79 = 198\n",
      "\n"
     ]
    }
   ],
   "source": [
    "flag = True\n",
    "for i in range_in_label[1]:\n",
    "    if flag:\n",
    "        flag=False\n",
    "        continue\n",
    "    for j in range_in_label[2]:\n",
    "        print(f\"{i} + {j} = {i+j}\")\n",
    "    print()"
   ]
  },
  {
   "cell_type": "code",
   "execution_count": 10,
   "id": "044b01fc-4e92-4ce5-82ed-25fe9c95e527",
   "metadata": {},
   "outputs": [
    {
     "name": "stdout",
     "output_type": "stream",
     "text": [
      "0\n",
      "a [0, 1, 2, 3, 4, 5, 6, 7, 8, 9]\n",
      "1\n",
      "a [0, 1, 2, 3, 4, 5, 6, 7, 8, 9]\n",
      "2\n",
      "a [0, 1, 2, 3, 4, 5, 6, 7, 8, 9]\n",
      "3\n",
      "a [0, 1, 2, 3, 4, 5, 6, 7, 8, 9]\n",
      "4\n",
      "a [0, 1, 2, 3, 4, 5, 6, 7, 8, 9]\n",
      "5\n",
      "a [0, 1, 2, 3, 4, 5, 6, 7, 8, 9]\n",
      "6\n",
      "a [0, 1, 2, 3, 4, 5, 6, 7, 8, 9]\n",
      "7\n",
      "a [0, 1, 2, 3, 4, 5, 6, 7, 8, 9]\n",
      "8\n",
      "a [0, 1, 2, 3, 4, 5, 6, 7, 8, 9]\n",
      "9\n",
      "a [0, 1, 2, 3, 4, 5, 6, 7, 8, 9]\n",
      "10\n",
      "a [0, 1, 2, 3, 4, 5, 6, 7, 8, 9]\n",
      "11\n",
      "a [0, 1, 2, 3, 4, 5, 6, 7, 8, 9]\n",
      "12\n",
      "a [0, 1, 2, 3, 4, 5, 6, 7, 8, 9]\n",
      "13\n",
      "a [0, 1, 2, 3, 4, 5, 6, 7, 8, 9]\n",
      "14\n",
      "a [0, 1, 2, 3, 4, 5, 6, 7, 8, 9]\n",
      "15\n",
      "a [0, 1, 2, 3, 4, 5, 6, 7, 8, 9]\n",
      "16\n",
      "a [0, 1, 2, 3, 4, 5, 6, 7, 8, 9]\n",
      "17\n",
      "a [0, 1, 2, 3, 4, 5, 6, 7, 8, 9]\n",
      "18\n",
      "a [0, 1, 2, 3, 4, 5, 6, 7, 8, 9]\n",
      "19\n",
      "a [0, 1, 2, 3, 4, 5, 6, 7, 8, 9]\n",
      "20\n",
      "a [0, 1, 2, 3, 4, 5, 6, 7, 8, 9]\n",
      "21\n",
      "a [0, 1, 2, 3, 4, 5, 6, 7, 8, 9]\n",
      "22\n",
      "a [0, 1, 2, 3, 4, 5, 6, 7, 8, 9]\n",
      "23\n",
      "a [0, 1, 2, 3, 4, 5, 6, 7, 8, 9]\n",
      "24\n",
      "a [0, 1, 2, 3, 4, 5, 6, 7, 8, 9]\n",
      "25\n",
      "a [0, 1, 2, 3, 4, 5, 6, 7, 8, 9]\n",
      "26\n",
      "a [0, 1, 2, 3, 4, 5, 6, 7, 8, 9]\n",
      "27\n",
      "a [0, 1, 2, 3, 4, 5, 6, 7, 8, 9]\n",
      "28\n",
      "a [0, 1, 2, 3, 4, 5, 6, 7, 8, 9]\n",
      "29\n",
      "a [0, 1, 2, 3, 4, 5, 6, 7, 8, 9]\n",
      "30\n",
      "a [0, 1, 2, 3, 4, 5, 6, 7, 8, 9]\n",
      "31\n",
      "a [0, 1, 2, 3, 4, 5, 6, 7, 8, 9]\n",
      "32\n",
      "a [0, 1, 2, 3, 4, 5, 6, 7, 8, 9]\n",
      "33\n",
      "a [0, 1, 2, 3, 5, 6, 7, 8, 9]\n",
      "34\n",
      "a [0, 1, 2, 3, 5, 6, 7, 8, 9]\n",
      "35\n",
      "a [0, 1, 2, 3, 5, 6, 7, 8, 9]\n",
      "36\n",
      "a [0, 1, 2, 3, 5, 6, 7, 8, 9]\n",
      "37\n",
      "a [0, 1, 2, 3, 5, 6, 7, 9]\n",
      "38\n",
      "a [0, 2, 3, 5, 6, 7, 9]\n",
      "39\n",
      "a [0, 2, 3, 5, 6, 9]\n",
      "40\n",
      "a [0, 2, 3, 5, 6, 9]\n",
      "41\n",
      "a [0, 2, 3, 6, 9]\n",
      "42\n",
      "a [0, 6, 9]\n",
      "43\n",
      "a [0, 6, 9]\n",
      "44\n",
      "a [0, 6, 9]\n",
      "45\n",
      "a [0, 6, 9]\n",
      "46\n",
      "a [0, 6, 9]\n",
      "47\n",
      "a [0, 6, 9]\n",
      "48\n",
      "a [0, 9]\n",
      "49\n",
      "a [0, 9]\n"
     ]
    }
   ],
   "source": [
    "np.random.seed(10)\n",
    "all_user = {}\n",
    "flag1 = [0]*NUM_LABEL\n",
    "flag2 = [0]*NUM_LABEL\n",
    "available_label = set(list(range(NUM_LABEL)))\n",
    "\n",
    "for i in range(NUM_USER):\n",
    "    print(i)\n",
    "    all_user[str(i)] = {}\n",
    "    a = list(available_label)\n",
    "    print('a',a)\n",
    "    labels = np.random.choice(a, size=(NUM_LABEL_PER_USER,), replace=False)\n",
    "    for label in labels:\n",
    "        tmp = flag1[label]\n",
    "        tmp_ = tmp + range_in_label[label][flag2[label]]\n",
    "        all_user[str(i)][int(label)] = data_by_label[label][tmp:tmp_]\n",
    "        flag1[label] = tmp_\n",
    "        flag2[label] += 1\n",
    "        if flag2[label] == INTERVAL:\n",
    "            available_label.remove(label)"
   ]
  },
  {
   "cell_type": "code",
   "execution_count": 11,
   "id": "ffed2849-e491-4e30-99ba-27026e6f0ee1",
   "metadata": {},
   "outputs": [
    {
     "name": "stdout",
     "output_type": "stream",
     "text": [
      "0 2\n",
      "8: 1005 2: 1161 \n",
      "\n",
      "1 2\n",
      "5: 769 3: 1255 \n",
      "\n",
      "2 2\n",
      "1: 383 6: 269 \n",
      "\n",
      "3 2\n",
      "0: 1315 7: 1253 \n",
      "\n",
      "4 2\n",
      "2: 401 0: 370 \n",
      "\n",
      "5 2\n",
      "1: 1191 4: 570 \n",
      "\n",
      "6 2\n",
      "5: 976 4: 411 \n",
      "\n",
      "7 2\n",
      "7: 266 3: 643 \n",
      "\n",
      "8 2\n",
      "5: 138 6: 426 \n",
      "\n",
      "9 2\n",
      "1: 182 8: 250 \n",
      "\n",
      "10 2\n",
      "5: 159 9: 949 \n",
      "\n",
      "11 2\n",
      "3: 434 8: 383 \n",
      "\n",
      "12 2\n",
      "8: 453 1: 331 \n",
      "\n",
      "13 2\n",
      "9: 489 4: 429 \n",
      "\n",
      "14 2\n",
      "8: 138 3: 128 \n",
      "\n",
      "15 2\n",
      "6: 216 2: 602 \n",
      "\n",
      "16 2\n",
      "1: 345 8: 241 \n",
      "\n",
      "17 2\n",
      "9: 492 4: 557 \n",
      "\n",
      "18 2\n",
      "2: 213 4: 196 \n",
      "\n",
      "19 2\n",
      "2: 195 6: 538 \n",
      "\n",
      "20 2\n",
      "2: 34 3: 167 \n",
      "\n",
      "21 2\n",
      "4: 87 2: 67 \n",
      "\n",
      "22 2\n",
      "3: 22 7: 395 \n",
      "\n",
      "23 2\n",
      "4: 121 5: 94 \n",
      "\n",
      "24 2\n",
      "3: 74 1: 53 \n",
      "\n",
      "25 2\n",
      "4: 170 1: 129 \n",
      "\n",
      "26 2\n",
      "7: 436 8: 76 \n",
      "\n",
      "27 2\n",
      "8: 55 7: 195 \n",
      "\n",
      "28 2\n",
      "7: 60 8: 41 \n",
      "\n",
      "29 2\n",
      "0: 497 4: 93 \n",
      "\n",
      "30 2\n",
      "6: 593 5: 169 \n",
      "\n",
      "31 2\n",
      "3: 29 1: 34 \n",
      "\n",
      "32 2\n",
      "4: 166 9: 412 \n",
      "\n",
      "33 2\n",
      "5: 160 7: 74 \n",
      "\n",
      "34 2\n",
      "3: 5 7: 30 \n",
      "\n",
      "35 2\n",
      "2: 15 1: 33 \n",
      "\n",
      "36 2\n",
      "8: 158 7: 16 \n",
      "\n",
      "37 2\n",
      "5: 71 1: 119 \n",
      "\n",
      "38 2\n",
      "7: 75 6: 350 \n",
      "\n",
      "39 2\n",
      "9: 44 5: 106 \n",
      "\n",
      "40 2\n",
      "5: 158 2: 33 \n",
      "\n",
      "41 2\n",
      "3: 43 2: 79 \n",
      "\n",
      "42 2\n",
      "0: 128 9: 165 \n",
      "\n",
      "43 2\n",
      "0: 181 6: 190 \n",
      "\n",
      "44 2\n",
      "0: 103 6: 41 \n",
      "\n",
      "45 2\n",
      "6: 25 9: 99 \n",
      "\n",
      "46 2\n",
      "9: 19 0: 23 \n",
      "\n",
      "47 2\n",
      "6: 152 0: 80 \n",
      "\n",
      "48 2\n",
      "0: 25 9: 63 \n",
      "\n",
      "49 2\n",
      "0: 78 9: 68 \n",
      "\n"
     ]
    },
    {
     "data": {
      "image/png": "[encoded data removed]",
      "text/plain": [
       "<Figure size 1080x1080 with 50 Axes>"
      ]
     },
     "metadata": {
      "needs_background": "light"
     },
     "output_type": "display_data"
    }
   ],
   "source": [
    "def check(all_client):\n",
    "    fig, axes = plt.subplots(nrows=5, ncols=10, figsize=(15, 15), sharey=True)\n",
    "    fig.subplots_adjust(hspace=0.5)\n",
    "\n",
    "    for i, key in enumerate(all_client.keys()):\n",
    "        print(key, len(all_client[key]))\n",
    "        for j in all_client[key].keys():\n",
    "            print(f'{j}: {len(all_client[key][j])}', end=' ')\n",
    "        print('\\n')\n",
    "\n",
    "        x = list(all_client[key].keys())\n",
    "        y = [len(all_client[key][t]) for t in all_client[key].keys()]\n",
    "        axes[int(i/10), int(i % 10)].bar(x=x, height=y)\n",
    "        axes[int(i/10), int(i%10)].set_title(sum(y))\n",
    "\n",
    "check(all_user)"
   ]
  },
  {
   "cell_type": "code",
   "execution_count": 12,
   "id": "21cc9152-c5b6-409d-ae8a-480ebf496b9e",
   "metadata": {},
   "outputs": [
    {
     "ename": "AttributeError",
     "evalue": "'dict' object has no attribute 'shape'",
     "output_type": "error",
     "traceback": [
      "\u001b[0;31m---------------------------------------------------------------------------\u001b[0m",
      "\u001b[0;31mAttributeError\u001b[0m                            Traceback (most recent call last)",
      "Input \u001b[0;32mIn [12]\u001b[0m, in \u001b[0;36m<cell line: 47>\u001b[0;34m()\u001b[0m\n\u001b[1;32m     45\u001b[0m     \u001b[38;5;28mprint\u001b[39m(all_train_data\u001b[38;5;241m.\u001b[39mshape)\n\u001b[1;32m     46\u001b[0m     \u001b[38;5;28mprint\u001b[39m(all_test_data\u001b[38;5;241m.\u001b[39mshape)\n\u001b[0;32m---> 47\u001b[0m \u001b[43mwrite_to_file\u001b[49m\u001b[43m(\u001b[49m\u001b[43mall_user\u001b[49m\u001b[43m)\u001b[49m\n",
      "Input \u001b[0;32mIn [12]\u001b[0m, in \u001b[0;36mwrite_to_file\u001b[0;34m(client_dict)\u001b[0m\n\u001b[1;32m     38\u001b[0m all_test_data[\u001b[38;5;124m'\u001b[39m\u001b[38;5;124muser_data\u001b[39m\u001b[38;5;124m'\u001b[39m] \u001b[38;5;241m=\u001b[39m test_user_data\n\u001b[1;32m     40\u001b[0m \u001b[38;5;66;03m# with open('./train_json/train.json', 'w') as outfile:\u001b[39;00m\n\u001b[1;32m     41\u001b[0m \u001b[38;5;66;03m#     json.dump(all_train_data, outfile)\u001b[39;00m\n\u001b[1;32m     42\u001b[0m \u001b[38;5;66;03m# with open('./test_json/test.json', 'w') as outfile:\u001b[39;00m\n\u001b[1;32m     43\u001b[0m \u001b[38;5;66;03m#     json.dump(all_test_data, outfile)\u001b[39;00m\n\u001b[0;32m---> 45\u001b[0m \u001b[38;5;28mprint\u001b[39m(\u001b[43mall_train_data\u001b[49m\u001b[38;5;241;43m.\u001b[39;49m\u001b[43mshape\u001b[49m)\n\u001b[1;32m     46\u001b[0m \u001b[38;5;28mprint\u001b[39m(all_test_data\u001b[38;5;241m.\u001b[39mshape)\n",
      "\u001b[0;31mAttributeError\u001b[0m: 'dict' object has no attribute 'shape'"
     ]
    }
   ],
   "source": [
    "def write_to_file(client_dict: dict):\n",
    "    all_train_data = {}\n",
    "    all_test_data = {}\n",
    "\n",
    "    users = list(client_dict.keys())\n",
    "    all_train_data['users'] = users\n",
    "    all_test_data['users'] = users\n",
    "\n",
    "    num_train_samples = []\n",
    "    num_test_samples = []\n",
    "    train_user_data = {}\n",
    "    test_user_data = {}\n",
    "    for user in users:\n",
    "        train_user_data[user] = {}\n",
    "        test_user_data[user] = {}\n",
    "\n",
    "        train_user_data[user]['x'] = []\n",
    "        train_user_data[user]['y'] = []\n",
    "        test_user_data[user]['x'] = []\n",
    "        test_user_data[user]['y'] = []\n",
    "\n",
    "        for key in client_dict[user].keys():\n",
    "            len_x = len(client_dict[user][key])\n",
    "            p = int(0.75*len_x)\n",
    "\n",
    "            train_user_data[user]['x'].extend(client_dict[user][key][:p])\n",
    "            train_user_data[user]['y'].extend([key]*p)\n",
    "\n",
    "            test_user_data[user]['x'].extend(client_dict[user][key][p:])\n",
    "            test_user_data[user]['y'].extend([key]*(len_x - p))\n",
    "\n",
    "        num_train_samples.append(len(train_user_data[user]['y']))\n",
    "        num_test_samples.append(len(test_user_data[user]['y']))\n",
    "\n",
    "    all_train_data['num_samples'] = num_train_samples\n",
    "    all_test_data['num_samples'] = num_test_samples\n",
    "    all_train_data['user_data'] = train_user_data\n",
    "    all_test_data['user_data'] = test_user_data\n",
    "\n",
    "    with open('./train_json/train.json', 'w') as outfile:\n",
    "        json.dump(all_train_data, outfile)\n",
    "    with open('./test_json/test.json', 'w') as outfile:\n",
    "        json.dump(all_test_data, outfile)\n",
    "\n",
    "write_to_file(all_user)"
   ]
  },
  {
   "cell_type": "code",
   "execution_count": 13,
   "id": "9a85c966-9882-423d-9e90-04ff5d73a8a3",
   "metadata": {},
   "outputs": [
    {
     "name": "stderr",
     "output_type": "stream",
     "text": [
      "/home/ic-lab/miniconda3/envs/torch_v1.9_gpu/lib/python3.8/site-packages/tqdm/auto.py:22: TqdmWarning: IProgress not found. Please update jupyter and ipywidgets. See https://ipywidgets.readthedocs.io/en/stable/user_install.html\n",
      "  from .autonotebook import tqdm as notebook_tqdm\n"
     ]
    }
   ],
   "source": [
    "import torch"
   ]
  },
  {
   "cell_type": "code",
   "execution_count": 15,
   "id": "8bff1d3c-6596-4fb5-a508-64c210d884ca",
   "metadata": {},
   "outputs": [
    {
     "name": "stdout",
     "output_type": "stream",
     "text": [
      "tensor([[0.8201, 0.4017, 0.9106,  ..., 0.5116, 0.9945, 0.5335],\n",
      "        [0.0086, 0.2987, 0.7081,  ..., 0.7986, 0.3394, 0.2376],\n",
      "        [0.4510, 0.5644, 0.5524,  ..., 0.1244, 0.6492, 0.0100],\n",
      "        [0.1299, 0.1588, 0.4982,  ..., 0.6942, 0.3128, 0.4840],\n",
      "        [0.2489, 0.6747, 0.3507,  ..., 0.9320, 0.0315, 0.7213]])\n"
     ]
    }
   ],
   "source": [
    "input_data=torch.rand(5,784)\n",
    "print(input_data)"
   ]
  },
  {
   "cell_type": "code",
   "execution_count": 17,
   "id": "27cde596-31cd-40bc-b4d0-0e69d9e6c22d",
   "metadata": {},
   "outputs": [],
   "source": [
    "data = input_data.reshape(5,1,-1)"
   ]
  },
  {
   "cell_type": "code",
   "execution_count": 18,
   "id": "dc2be7cf-ae67-4ecd-af84-0975e8b9be1b",
   "metadata": {},
   "outputs": [
    {
     "data": {
      "text/plain": [
       "torch.Size([5, 1, 784])"
      ]
     },
     "execution_count": 18,
     "metadata": {},
     "output_type": "execute_result"
    }
   ],
   "source": [
    "data.shape"
   ]
  },
  {
   "cell_type": "code",
   "execution_count": 22,
   "id": "4eb521b0-42af-416a-bfaa-71e3163003a5",
   "metadata": {},
   "outputs": [],
   "source": [
    "import torch.nn as nn"
   ]
  },
  {
   "cell_type": "code",
   "execution_count": 24,
   "id": "d1b12dd8-5254-4902-be2d-3897776a08bd",
   "metadata": {},
   "outputs": [
    {
     "name": "stdout",
     "output_type": "stream",
     "text": [
      "[[[0]\n",
      "  [1]\n",
      "  [2]\n",
      "  [3]\n",
      "  [4]\n",
      "  [5]\n",
      "  [6]]]\n",
      "tensor([[[0., 1., 2., 3., 4., 5., 6.]]])\n",
      "Parameter containing:\n",
      "tensor([[[1., 1.]]], requires_grad=True)\n",
      "torch.Size([1, 1, 6])\n",
      "tensor([[[ 1.,  3.,  5.,  7.,  9., 11.]]], grad_fn=<SqueezeBackward1>)\n"
     ]
    }
   ],
   "source": [
    "a=np.array([i for i in range(7)]).reshape(1,7,1)\n",
    "print(a)\n",
    "conv1 = nn.Conv1d(in_channels=1,out_channels=1,kernel_size=2)\n",
    "input = torch.Tensor(a) # shape (1,7,1) # in_channels=1\n",
    "input = input.permute(0,2,1)    # shape (1,1,7) # in_channels=1\n",
    "print(input)\n",
    "\n",
    "nn.init.constant_(conv1.weight, 1)\t# 将核的元素值初始化为全1\n",
    "nn.init.constant_(conv1.bias, 0)\t# 偏置值为0\n",
    "print(conv1.weight)\n",
    "\n",
    "out = conv1(input)\n",
    "print(out.size())\n",
    "print(out)\n",
    "# 结果：\n",
    "# tensor([[[0., 1., 2., 3., 4., 5., 6.]]])\n",
    "# Parameter containing:\n",
    "# tensor([[[1., 1.]]], requires_grad=True)\n",
    "# torch.Size([1, 1, 6])\n",
    "# tensor([[[ 1.,  3.,  5.,  7.,  9., 11.]]], grad_fn=<SqueezeBackward1>)"
   ]
  },
  {
   "cell_type": "code",
   "execution_count": 25,
   "id": "e9941cd5-7d70-4d1f-ab8d-2f3c30c95db1",
   "metadata": {},
   "outputs": [
    {
     "data": {
      "text/plain": [
       "3136"
      ]
     },
     "execution_count": 25,
     "metadata": {},
     "output_type": "execute_result"
    }
   ],
   "source": [
    "(784//2**4)*64"
   ]
  },
  {
   "cell_type": "code",
   "execution_count": 26,
   "id": "ac330ce2-94a2-4365-85a9-64d5fae9b384",
   "metadata": {},
   "outputs": [
    {
     "data": {
      "text/plain": [
       "28000"
      ]
     },
     "execution_count": 26,
     "metadata": {},
     "output_type": "execute_result"
    }
   ],
   "source": [
    "8929+5423+3768+3355+2148+1284+1013+544+440+1096"
   ]
  },
  {
   "cell_type": "code",
   "execution_count": 16,
   "id": "ca911194-0585-42c2-8185-cbf820217a4a",
   "metadata": {},
   "outputs": [
    {
     "name": "stdout",
     "output_type": "stream",
     "text": [
      "[0, 0, 0, 0, 0, 0, 0, 0, 0, 0, 0, 0, 0, 0, 0, 0, 0, 0, 0, 0, 0, 0, 0, 0, 0, 0, 0, 0, 0, 0, 0, 0, 0, 0, 0, 0, 0, 0, 0, 0, 0, 0, 0, 0, 0, 0, 0, 0, 0, 0]\n",
      "8: 1005 2: 1161 \n",
      "\n",
      "5: 769 3: 1255 \n",
      "\n",
      "1: 383 6: 269 \n",
      "\n",
      "0: 1315 7: 1253 \n",
      "\n",
      "2: 401 0: 370 \n",
      "\n",
      "1: 1191 4: 570 \n",
      "\n",
      "5: 976 4: 411 \n",
      "\n",
      "7: 266 3: 643 \n",
      "\n",
      "5: 138 6: 426 \n",
      "\n",
      "1: 182 8: 250 \n",
      "\n",
      "5: 159 9: 949 \n",
      "\n",
      "3: 434 8: 383 \n",
      "\n",
      "8: 453 1: 331 \n",
      "\n",
      "9: 489 4: 429 \n",
      "\n",
      "8: 138 3: 128 \n",
      "\n",
      "6: 216 2: 602 \n",
      "\n",
      "1: 345 8: 241 \n",
      "\n",
      "9: 492 4: 557 \n",
      "\n",
      "2: 213 4: 196 \n",
      "\n",
      "2: 195 6: 538 \n",
      "\n",
      "2: 34 3: 167 \n",
      "\n",
      "4: 87 2: 67 \n",
      "\n",
      "3: 22 7: 395 \n",
      "\n",
      "4: 121 5: 94 \n",
      "\n",
      "3: 74 1: 53 \n",
      "\n",
      "4: 170 1: 129 \n",
      "\n",
      "7: 436 8: 76 \n",
      "\n",
      "8: 55 7: 195 \n",
      "\n",
      "7: 60 8: 41 \n",
      "\n",
      "0: 497 4: 93 \n",
      "\n",
      "6: 593 5: 169 \n",
      "\n",
      "3: 29 1: 34 \n",
      "\n",
      "4: 166 9: 412 \n",
      "\n",
      "5: 160 7: 74 \n",
      "\n",
      "3: 5 7: 30 \n",
      "\n",
      "2: 15 1: 33 \n",
      "\n",
      "8: 158 7: 16 \n",
      "\n",
      "5: 71 1: 119 \n",
      "\n",
      "7: 75 6: 350 \n",
      "\n",
      "9: 44 5: 106 \n",
      "\n",
      "5: 158 2: 33 \n",
      "\n",
      "3: 43 2: 79 \n",
      "\n",
      "0: 128 9: 165 \n",
      "\n",
      "0: 181 6: 190 \n",
      "\n",
      "0: 103 6: 41 \n",
      "\n",
      "6: 25 9: 99 \n",
      "\n",
      "9: 19 0: 23 \n",
      "\n",
      "6: 152 0: 80 \n",
      "\n",
      "0: 25 9: 63 \n",
      "\n",
      "0: 78 9: 68 \n",
      "\n",
      "[2166, 2024, 652, 2568, 771, 1761, 1387, 909, 564, 432, 1108, 817, 784, 918, 266, 818, 586, 1049, 409, 733, 201, 154, 417, 215, 127, 299, 512, 250, 101, 590, 762, 63, 578, 234, 35, 48, 174, 190, 425, 150, 191, 122, 293, 371, 144, 124, 42, 232, 88, 146]\n"
     ]
    }
   ],
   "source": [
    "# count\n",
    "# def statistic(all_client):\n",
    "#     fig, axes = plt.subplots(nrows=5, ncols=10, figsize=(15, 15), sharey=True)\n",
    "#     fig.subplots_adjust(hspace=0.5)\n",
    "\n",
    "#     for i, key in enumerate(all_client.keys()):\n",
    "#         print(key, len(all_client[key]))\n",
    "#         for j in all_client[key].keys():\n",
    "#             print(f'{j}: {len(all_client[key][j])}', end=' ')\n",
    "#         print('\\n')\n",
    "\n",
    "all_client = all_user\n",
    "samples_num_per_client = [0]*50\n",
    "print(samples_num_per_client)\n",
    "for i, key in enumerate(all_client.keys()):\n",
    "    # print(key, len(all_client[key]))\n",
    "    for j in all_client[key].keys():\n",
    "        print(f'{j}: {len(all_client[key][j])}', end=' ')\n",
    "        samples_num_per_client[i] += len(all_client[key][j])\n",
    "        \n",
    "    print('\\n')\n",
    "print(samples_num_per_client)"
   ]
  },
  {
   "cell_type": "code",
   "execution_count": 17,
   "id": "a71e2cba-2085-48cc-83a3-0ea54c4ead46",
   "metadata": {},
   "outputs": [
    {
     "data": {
      "text/plain": [
       "35"
      ]
     },
     "execution_count": 17,
     "metadata": {},
     "output_type": "execute_result"
    }
   ],
   "source": [
    "min(samples_num_per_client)"
   ]
  },
  {
   "cell_type": "code",
   "execution_count": 18,
   "id": "c6181f47-f60c-4712-a910-3cf6ebd76367",
   "metadata": {},
   "outputs": [
    {
     "data": {
      "text/plain": [
       "2568"
      ]
     },
     "execution_count": 18,
     "metadata": {},
     "output_type": "execute_result"
    }
   ],
   "source": [
    "max(samples_num_per_client)"
   ]
  },
  {
   "cell_type": "code",
   "execution_count": 21,
   "id": "cda30c10-67ea-4f15-b1f9-7939c2a15cea",
   "metadata": {},
   "outputs": [
    {
     "data": {
      "text/plain": [
       "560.0"
      ]
     },
     "execution_count": 21,
     "metadata": {},
     "output_type": "execute_result"
    }
   ],
   "source": [
    "sum(samples_num_per_client)/len(samples_num_per_client)"
   ]
  },
  {
   "cell_type": "code",
   "execution_count": 22,
   "id": "9a2c93d7-d979-4ae6-bc9e-459f259fd119",
   "metadata": {},
   "outputs": [],
   "source": [
    "mean = sum(samples_num_per_client)/len(samples_num_per_client)"
   ]
  },
  {
   "cell_type": "code",
   "execution_count": 26,
   "id": "98a4bced-9591-484e-a38b-9485e3739d9f",
   "metadata": {},
   "outputs": [],
   "source": [
    "import math\n",
    "variance = 0\n",
    "for i in range(50):\n",
    "    variance += (samples_num_per_client[i]-mean)**2\n",
    "std = math.sqrt(variance/50)"
   ]
  },
  {
   "cell_type": "code",
   "execution_count": 27,
   "id": "dd0d8004-3bd8-4d32-b996-894d7a172d1b",
   "metadata": {},
   "outputs": [
    {
     "data": {
      "text/plain": [
       "566.282191137952"
      ]
     },
     "execution_count": 27,
     "metadata": {},
     "output_type": "execute_result"
    }
   ],
   "source": [
    "std"
   ]
  },
  {
   "cell_type": "code",
   "execution_count": null,
   "id": "59d16409-3ea9-4cf4-a980-c0caf4c688ce",
   "metadata": {},
   "outputs": [],
   "source": []
  }
 ],
 "metadata": {
  "kernelspec": {
   "display_name": "torch_v1.9_gpu",
   "language": "python",
   "name": "torch_v1.9_gpu"
  },
  "language_info": {
   "codemirror_mode": {
    "name": "ipython",
    "version": 3
   },
   "file_extension": ".py",
   "mimetype": "text/x-python",
   "name": "python",
   "nbconvert_exporter": "python",
   "pygments_lexer": "ipython3",
   "version": "3.8.13"
  }
 },
 "nbformat": 4,
 "nbformat_minor": 5
}
