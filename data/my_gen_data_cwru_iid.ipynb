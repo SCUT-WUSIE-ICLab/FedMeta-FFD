{
 "cells": [
  {
   "cell_type": "code",
   "execution_count": 1,
   "id": "5d20547e-8f9f-45c4-98c4-b71882fe9b04",
   "metadata": {},
   "outputs": [],
   "source": [
    "import pandas as pd\n",
    "import numpy as np\n",
    "import json\n",
    "import matplotlib.pyplot as plt"
   ]
  },
  {
   "cell_type": "code",
   "execution_count": 2,
   "id": "ce60e78c-c3d4-4417-9b95-daffaf507649",
   "metadata": {},
   "outputs": [
    {
     "data": {
      "text/plain": [
       "(28000, 785)"
      ]
     },
     "execution_count": 2,
     "metadata": {},
     "output_type": "execute_result"
    }
   ],
   "source": [
    "df_train = pd.read_csv('./cwru_train.csv',header=None)\n",
    "df_test = pd.read_csv('./cwru_test.csv',header=None)\n",
    "df = pd.concat([df_train, df_test], axis=0)\n",
    "df.shape"
   ]
  },
  {
   "cell_type": "code",
   "execution_count": 3,
   "id": "6db2d484-9d1d-4662-acfe-b9a6ecad6fc4",
   "metadata": {},
   "outputs": [
    {
     "data": {
      "text/plain": [
       "(28000, 785)"
      ]
     },
     "execution_count": 3,
     "metadata": {},
     "output_type": "execute_result"
    }
   ],
   "source": [
    "all_data = df.to_numpy()\n",
    "all_data.shape"
   ]
  },
  {
   "cell_type": "code",
   "execution_count": 4,
   "id": "7f324ded-2d5b-41cc-8f1f-e55fc67713f3",
   "metadata": {},
   "outputs": [
    {
     "data": {
      "text/plain": [
       "((28000, 784), (28000,))"
      ]
     },
     "execution_count": 4,
     "metadata": {},
     "output_type": "execute_result"
    }
   ],
   "source": [
    "X = all_data[:, 1:]\n",
    "y = all_data[:, 0]\n",
    "X.shape, y.shape"
   ]
  },
  {
   "cell_type": "code",
   "execution_count": 5,
   "id": "56875ff5-4c16-4d2d-87f2-5b990d494c0c",
   "metadata": {},
   "outputs": [
    {
     "data": {
      "text/plain": [
       "<BarContainer object of 10 artists>"
      ]
     },
     "execution_count": 5,
     "metadata": {},
     "output_type": "execute_result"
    },
    {
     "data": {
      "image/png": "[encoded data removed]",
      "text/plain": [
       "<Figure size 432x288 with 1 Axes>"
      ]
     },
     "metadata": {
      "needs_background": "light"
     },
     "output_type": "display_data"
    }
   ],
   "source": [
    "data_by_label = {}\n",
    "for i in set(y):\n",
    "    data_by_label[i] = []\n",
    "for i, item in enumerate(y):\n",
    "    data_by_label[item].append(X[i].tolist())\n",
    "\n",
    "plt.bar(x=list(data_by_label.keys()), height=[len(data_by_label[key]) for key in data_by_label.keys()])"
   ]
  },
  {
   "cell_type": "code",
   "execution_count": 9,
   "id": "d753a624-5fde-4b6c-bfae-575cd3759d81",
   "metadata": {},
   "outputs": [
    {
     "data": {
      "text/plain": [
       "10"
      ]
     },
     "execution_count": 9,
     "metadata": {},
     "output_type": "execute_result"
    }
   ],
   "source": [
    "NUM_USER = 10\n",
    "NUM_LABEL_PER_USER = 10\n",
    "NUM_LABEL = 10\n",
    "INTERVAL = int(NUM_USER*NUM_LABEL_PER_USER/NUM_LABEL)\n",
    "INTERVAL"
   ]
  },
  {
   "cell_type": "code",
   "execution_count": 10,
   "id": "79619c2e-58a2-4f0a-b56c-eb8e08a8da29",
   "metadata": {},
   "outputs": [
    {
     "data": {
      "text/plain": [
       "[[1315, 370, 497, 128, 181, 103, 23, 80, 25, 78],\n",
       " [383, 1191, 182, 331, 345, 53, 129, 34, 33, 119],\n",
       " [1161, 401, 602, 213, 195, 34, 67, 15, 33, 79],\n",
       " [1255, 643, 434, 128, 167, 22, 74, 29, 5, 43],\n",
       " [570, 411, 429, 557, 196, 87, 121, 170, 93, 166],\n",
       " [769, 976, 138, 159, 94, 169, 160, 71, 106, 158],\n",
       " [269, 426, 216, 538, 593, 350, 190, 41, 25, 152],\n",
       " [1253, 266, 395, 436, 195, 60, 74, 30, 16, 75],\n",
       " [1005, 250, 383, 453, 138, 241, 76, 55, 41, 158],\n",
       " [949, 489, 492, 412, 44, 165, 99, 19, 63, 68]]"
      ]
     },
     "execution_count": 10,
     "metadata": {},
     "output_type": "execute_result"
    }
   ],
   "source": [
    "np.random.seed(1)\n",
    "range_in_label = []\n",
    "\n",
    "for i in range(NUM_LABEL):\n",
    "    tmp = []\n",
    "    total = len(data_by_label[i])\n",
    "    for j in range(INTERVAL-1):\n",
    "        val = np.random.randint(total//(INTERVAL + 1), total//2)\n",
    "        tmp.append(val)\n",
    "        total -= val\n",
    "    tmp.append(total)\n",
    "    range_in_label.append(tmp)\n",
    "\n",
    "range_in_label"
   ]
  },
  {
   "cell_type": "code",
   "execution_count": 11,
   "id": "6c5b0225-211f-4a02-840f-4b73d3c1e6da",
   "metadata": {},
   "outputs": [
    {
     "name": "stdout",
     "output_type": "stream",
     "text": [
      "1191 + 1161 = 2352\n",
      "1191 + 401 = 1592\n",
      "1191 + 602 = 1793\n",
      "1191 + 213 = 1404\n",
      "1191 + 195 = 1386\n",
      "1191 + 34 = 1225\n",
      "1191 + 67 = 1258\n",
      "1191 + 15 = 1206\n",
      "1191 + 33 = 1224\n",
      "1191 + 79 = 1270\n",
      "\n",
      "182 + 1161 = 1343\n",
      "182 + 401 = 583\n",
      "182 + 602 = 784\n",
      "182 + 213 = 395\n",
      "182 + 195 = 377\n",
      "182 + 34 = 216\n",
      "182 + 67 = 249\n",
      "182 + 15 = 197\n",
      "182 + 33 = 215\n",
      "182 + 79 = 261\n",
      "\n",
      "331 + 1161 = 1492\n",
      "331 + 401 = 732\n",
      "331 + 602 = 933\n",
      "331 + 213 = 544\n",
      "331 + 195 = 526\n",
      "331 + 34 = 365\n",
      "331 + 67 = 398\n",
      "331 + 15 = 346\n",
      "331 + 33 = 364\n",
      "331 + 79 = 410\n",
      "\n",
      "345 + 1161 = 1506\n",
      "345 + 401 = 746\n",
      "345 + 602 = 947\n",
      "345 + 213 = 558\n",
      "345 + 195 = 540\n",
      "345 + 34 = 379\n",
      "345 + 67 = 412\n",
      "345 + 15 = 360\n",
      "345 + 33 = 378\n",
      "345 + 79 = 424\n",
      "\n",
      "53 + 1161 = 1214\n",
      "53 + 401 = 454\n",
      "53 + 602 = 655\n",
      "53 + 213 = 266\n",
      "53 + 195 = 248\n",
      "53 + 34 = 87\n",
      "53 + 67 = 120\n",
      "53 + 15 = 68\n",
      "53 + 33 = 86\n",
      "53 + 79 = 132\n",
      "\n",
      "129 + 1161 = 1290\n",
      "129 + 401 = 530\n",
      "129 + 602 = 731\n",
      "129 + 213 = 342\n",
      "129 + 195 = 324\n",
      "129 + 34 = 163\n",
      "129 + 67 = 196\n",
      "129 + 15 = 144\n",
      "129 + 33 = 162\n",
      "129 + 79 = 208\n",
      "\n",
      "34 + 1161 = 1195\n",
      "34 + 401 = 435\n",
      "34 + 602 = 636\n",
      "34 + 213 = 247\n",
      "34 + 195 = 229\n",
      "34 + 34 = 68\n",
      "34 + 67 = 101\n",
      "34 + 15 = 49\n",
      "34 + 33 = 67\n",
      "34 + 79 = 113\n",
      "\n",
      "33 + 1161 = 1194\n",
      "33 + 401 = 434\n",
      "33 + 602 = 635\n",
      "33 + 213 = 246\n",
      "33 + 195 = 228\n",
      "33 + 34 = 67\n",
      "33 + 67 = 100\n",
      "33 + 15 = 48\n",
      "33 + 33 = 66\n",
      "33 + 79 = 112\n",
      "\n",
      "119 + 1161 = 1280\n",
      "119 + 401 = 520\n",
      "119 + 602 = 721\n",
      "119 + 213 = 332\n",
      "119 + 195 = 314\n",
      "119 + 34 = 153\n",
      "119 + 67 = 186\n",
      "119 + 15 = 134\n",
      "119 + 33 = 152\n",
      "119 + 79 = 198\n",
      "\n"
     ]
    }
   ],
   "source": [
    "flag = True\n",
    "for i in range_in_label[1]:\n",
    "    if flag:\n",
    "        flag=False\n",
    "        continue\n",
    "    for j in range_in_label[2]:\n",
    "        print(f\"{i} + {j} = {i+j}\")\n",
    "    print()"
   ]
  },
  {
   "cell_type": "code",
   "execution_count": 12,
   "id": "af4727e0-f57f-484d-9ff2-2195abfa941b",
   "metadata": {},
   "outputs": [],
   "source": [
    "np.random.seed(10)\n",
    "all_user = {}\n",
    "flag1 = [0]*NUM_LABEL\n",
    "flag2 = [0]*NUM_LABEL\n",
    "available_label = set(list(range(NUM_LABEL)))\n",
    "\n",
    "for i in range(NUM_USER):\n",
    "    all_user[str(i)] = {}\n",
    "    \n",
    "    labels = np.random.choice(a=list(available_label), size=(NUM_LABEL_PER_USER,), replace=False)\n",
    "    for label in labels:\n",
    "        tmp = flag1[label]\n",
    "        tmp_ = tmp + range_in_label[label][flag2[label]]\n",
    "        all_user[str(i)][int(label)] = data_by_label[label][tmp:tmp_]\n",
    "        flag1[label] = tmp_\n",
    "        flag2[label] += 1\n",
    "        if flag2[label] == INTERVAL:\n",
    "            available_label.remove(label)"
   ]
  },
  {
   "cell_type": "code",
   "execution_count": 17,
   "id": "74a95489-565b-4456-94fa-7db9cec12abd",
   "metadata": {},
   "outputs": [
    {
     "data": {
      "image/png": "[encoded data removed]",
      "text/plain": [
       "<Figure size 1080x1080 with 50 Axes>"
      ]
     },
     "metadata": {
      "needs_background": "light"
     },
     "output_type": "display_data"
    }
   ],
   "source": [
    "def check(all_client):\n",
    "    fig, axes = plt.subplots(nrows=5, ncols=10, figsize=(15, 15), sharey=True)\n",
    "    fig.subplots_adjust(hspace=0.5)\n",
    "\n",
    "    for i, key in enumerate(all_client.keys()):\n",
    "#         print(key, len(all_client[key]))\n",
    "#         for j in all_client[key].keys():\n",
    "#             print(f'{j}: {len(all_client[key][j])}', end=' ')\n",
    "#         print('\\n')\n",
    "\n",
    "        x = list(all_client[key].keys())\n",
    "        y = [len(all_client[key][t]) for t in all_client[key].keys()]\n",
    "        axes[int(i/10), int(i % 10)].bar(x=x, height=y)\n",
    "        axes[int(i/10), int(i%10)].set_title(sum(y))\n",
    "\n",
    "check(all_user)"
   ]
  },
  {
   "cell_type": "code",
   "execution_count": 18,
   "id": "e513dad3-c7c7-4f32-b238-f258ccfc9e57",
   "metadata": {},
   "outputs": [],
   "source": [
    "def write_to_file(client_dict: dict):\n",
    "    all_train_data = {}\n",
    "    all_test_data = {}\n",
    "\n",
    "    users = list(client_dict.keys())\n",
    "    all_train_data['users'] = users\n",
    "    all_test_data['users'] = users\n",
    "\n",
    "    num_train_samples = []\n",
    "    num_test_samples = []\n",
    "    train_user_data = {}\n",
    "    test_user_data = {}\n",
    "    for user in users:\n",
    "        train_user_data[user] = {}\n",
    "        test_user_data[user] = {}\n",
    "\n",
    "        train_user_data[user]['x'] = []\n",
    "        train_user_data[user]['y'] = []\n",
    "        test_user_data[user]['x'] = []\n",
    "        test_user_data[user]['y'] = []\n",
    "\n",
    "        for key in client_dict[user].keys():\n",
    "            len_x = len(client_dict[user][key])\n",
    "            p = int(0.75*len_x)\n",
    "\n",
    "            train_user_data[user]['x'].extend(client_dict[user][key][:p])\n",
    "            train_user_data[user]['y'].extend([key]*p)\n",
    "\n",
    "            test_user_data[user]['x'].extend(client_dict[user][key][p:])\n",
    "            test_user_data[user]['y'].extend([key]*(len_x - p))\n",
    "\n",
    "        num_train_samples.append(len(train_user_data[user]['y']))\n",
    "        num_test_samples.append(len(test_user_data[user]['y']))\n",
    "\n",
    "    all_train_data['num_samples'] = num_train_samples\n",
    "    all_test_data['num_samples'] = num_test_samples\n",
    "    all_train_data['user_data'] = train_user_data\n",
    "    all_test_data['user_data'] = test_user_data\n",
    "\n",
    "    with open('./train_json_iid/train.json', 'w') as outfile:\n",
    "        json.dump(all_train_data, outfile)\n",
    "    with open('./test_json_iid/test.json', 'w') as outfile:\n",
    "        json.dump(all_test_data, outfile)\n",
    "\n",
    "write_to_file(all_user)"
   ]
  },
  {
   "cell_type": "code",
   "execution_count": null,
   "id": "c81f33ba-3d8f-4c8b-a8cc-a4cd41d71cc6",
   "metadata": {},
   "outputs": [],
   "source": []
  }
 ],
 "metadata": {
  "kernelspec": {
   "display_name": "torch_v1.9_gpu",
   "language": "python",
   "name": "torch_v1.9_gpu"
  },
  "language_info": {
   "codemirror_mode": {
    "name": "ipython",
    "version": 3
   },
   "file_extension": ".py",
   "mimetype": "text/x-python",
   "name": "python",
   "nbconvert_exporter": "python",
   "pygments_lexer": "ipython3",
   "version": "3.8.13"
  }
 },
 "nbformat": 4,
 "nbformat_minor": 5
}
