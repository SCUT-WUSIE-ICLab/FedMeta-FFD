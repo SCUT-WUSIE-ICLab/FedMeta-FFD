{
 "cells": [
  {
   "cell_type": "code",
   "execution_count": 1,
   "id": "b570657d-abd6-4688-8e6b-ebf6878a7225",
   "metadata": {},
   "outputs": [],
   "source": [
    "import pandas as pd\n",
    "import numpy as np\n",
    "import json\n",
    "import matplotlib.pyplot as plt"
   ]
  },
  {
   "cell_type": "code",
   "execution_count": 2,
   "id": "fdfc1130-9957-4ed6-a02f-5e5b576dfabf",
   "metadata": {},
   "outputs": [],
   "source": [
    "df_train = pd.read_csv('./cwru_train.csv',header=None)\n",
    "df_test = pd.read_csv('./cwru_test.csv',header=None)"
   ]
  },
  {
   "cell_type": "code",
   "execution_count": 3,
   "id": "2c504141-85db-4572-9d0d-1f0bed2a6ad2",
   "metadata": {},
   "outputs": [
    {
     "data": {
      "text/plain": [
       "((14000, 785), (14000, 785))"
      ]
     },
     "execution_count": 3,
     "metadata": {},
     "output_type": "execute_result"
    }
   ],
   "source": [
    "df_train.shape, df_test.shape"
   ]
  },
  {
   "cell_type": "code",
   "execution_count": 4,
   "id": "a33d7c18-38e9-48b9-8f64-b21586c79bf0",
   "metadata": {},
   "outputs": [],
   "source": [
    "train_data = df_train.to_numpy()\n",
    "test_data = df_test.to_numpy()"
   ]
  },
  {
   "cell_type": "code",
   "execution_count": 5,
   "id": "b147936e-e14b-4555-8922-7a3f747ab1bb",
   "metadata": {},
   "outputs": [
    {
     "data": {
      "text/plain": [
       "((14000, 785), (14000, 785))"
      ]
     },
     "execution_count": 5,
     "metadata": {},
     "output_type": "execute_result"
    }
   ],
   "source": [
    "train_data.shape, test_data.shape"
   ]
  },
  {
   "cell_type": "code",
   "execution_count": 6,
   "id": "2fadedec-a524-4001-afc1-b5d7b230dae9",
   "metadata": {},
   "outputs": [],
   "source": [
    "X_train = train_data[:, 1:]\n",
    "y_train = train_data[:, 0]"
   ]
  },
  {
   "cell_type": "code",
   "execution_count": 7,
   "id": "187e0f5d-d72e-4488-804d-fe16d22a4771",
   "metadata": {},
   "outputs": [],
   "source": [
    "X_test = test_data[:, 1:]\n",
    "y_test = test_data[:, 0]"
   ]
  },
  {
   "cell_type": "code",
   "execution_count": null,
   "id": "9452adbf-6bbf-4d04-9b46-ce5b0e9613f4",
   "metadata": {},
   "outputs": [],
   "source": [
    "X_train[0],y_train[0] #8.0"
   ]
  },
  {
   "cell_type": "code",
   "execution_count": null,
   "id": "ba71b864-e1f0-4163-9ed9-f2c935617b29",
   "metadata": {},
   "outputs": [],
   "source": [
    "X_test[0],y_test[0] #8.0"
   ]
  },
  {
   "cell_type": "code",
   "execution_count": 9,
   "id": "45fe7834-ba0b-4a04-8997-4cb3552dff87",
   "metadata": {},
   "outputs": [
    {
     "data": {
      "text/plain": [
       "<BarContainer object of 10 artists>"
      ]
     },
     "execution_count": 9,
     "metadata": {},
     "output_type": "execute_result"
    },
    {
     "data": {
      "image/png": "[encoded data removed]",
      "text/plain": [
       "<Figure size 432x288 with 1 Axes>"
      ]
     },
     "metadata": {
      "needs_background": "light"
     },
     "output_type": "display_data"
    }
   ],
   "source": [
    "train_data_by_label = {}\n",
    "for i in set(y_train):\n",
    "    train_data_by_label[i] = []\n",
    "for i, item in enumerate(y_train):\n",
    "    train_data_by_label[item].append(X_train[i].tolist())\n",
    "\n",
    "plt.bar(x=list(train_data_by_label.keys()), height=[len(train_data_by_label[key]) for key in train_data_by_label.keys()])"
   ]
  },
  {
   "cell_type": "code",
   "execution_count": 10,
   "id": "f5401e9d-4276-42f8-91e4-7e3e49a395a5",
   "metadata": {},
   "outputs": [
    {
     "data": {
      "text/plain": [
       "10"
      ]
     },
     "execution_count": 10,
     "metadata": {},
     "output_type": "execute_result"
    }
   ],
   "source": [
    "NUM_USER = 50\n",
    "NUM_LABEL_PER_USER = 2\n",
    "NUM_LABEL = 10\n",
    "INTERVAL = int(NUM_USER*NUM_LABEL_PER_USER/NUM_LABEL)\n",
    "INTERVAL"
   ]
  },
  {
   "cell_type": "code",
   "execution_count": 13,
   "id": "3e2ca728-2a29-4c7f-ab0c-9bc1c2120551",
   "metadata": {},
   "outputs": [
    {
     "data": {
      "text/plain": [
       "[[686, 181, 240, 93, 85, 49, 15, 23, 7, 21],\n",
       " [197, 581, 144, 183, 84, 84, 49, 14, 28, 36],\n",
       " [301, 187, 419, 209, 50, 98, 20, 19, 28, 69],\n",
       " [242, 569, 250, 109, 67, 78, 25, 8, 21, 31],\n",
       " [274, 500, 241, 162, 52, 46, 21, 32, 9, 63],\n",
       " [637, 252, 74, 73, 161, 18, 52, 65, 11, 57],\n",
       " [677, 309, 54, 111, 26, 62, 72, 39, 5, 45],\n",
       " [448, 143, 364, 142, 146, 25, 58, 24, 4, 46],\n",
       " [525, 178, 116, 192, 156, 63, 83, 13, 10, 64],\n",
       " [174, 238, 220, 249, 125, 178, 39, 74, 32, 71]]"
      ]
     },
     "execution_count": 13,
     "metadata": {},
     "output_type": "execute_result"
    }
   ],
   "source": [
    "np.random.seed(0)\n",
    "range_in_label = []\n",
    "\n",
    "for i in range(NUM_LABEL):\n",
    "    tmp = []\n",
    "    total = len(train_data_by_label[i])\n",
    "    for j in range(INTERVAL-1):\n",
    "        val = np.random.randint(total//(INTERVAL + 1), total//2)\n",
    "        tmp.append(val)\n",
    "        total -= val\n",
    "    tmp.append(total)\n",
    "    range_in_label.append(tmp)\n",
    "\n",
    "range_in_label"
   ]
  },
  {
   "cell_type": "code",
   "execution_count": 14,
   "id": "513856d2-df7d-42c0-85f9-265b189af2e4",
   "metadata": {},
   "outputs": [
    {
     "name": "stdout",
     "output_type": "stream",
     "text": [
      "581 + 301 = 882\n",
      "581 + 187 = 768\n",
      "581 + 419 = 1000\n",
      "581 + 209 = 790\n",
      "581 + 50 = 631\n",
      "581 + 98 = 679\n",
      "581 + 20 = 601\n",
      "581 + 19 = 600\n",
      "581 + 28 = 609\n",
      "581 + 69 = 650\n",
      "\n",
      "144 + 301 = 445\n",
      "144 + 187 = 331\n",
      "144 + 419 = 563\n",
      "144 + 209 = 353\n",
      "144 + 50 = 194\n",
      "144 + 98 = 242\n",
      "144 + 20 = 164\n",
      "144 + 19 = 163\n",
      "144 + 28 = 172\n",
      "144 + 69 = 213\n",
      "\n",
      "183 + 301 = 484\n",
      "183 + 187 = 370\n",
      "183 + 419 = 602\n",
      "183 + 209 = 392\n",
      "183 + 50 = 233\n",
      "183 + 98 = 281\n",
      "183 + 20 = 203\n",
      "183 + 19 = 202\n",
      "183 + 28 = 211\n",
      "183 + 69 = 252\n",
      "\n",
      "84 + 301 = 385\n",
      "84 + 187 = 271\n",
      "84 + 419 = 503\n",
      "84 + 209 = 293\n",
      "84 + 50 = 134\n",
      "84 + 98 = 182\n",
      "84 + 20 = 104\n",
      "84 + 19 = 103\n",
      "84 + 28 = 112\n",
      "84 + 69 = 153\n",
      "\n",
      "84 + 301 = 385\n",
      "84 + 187 = 271\n",
      "84 + 419 = 503\n",
      "84 + 209 = 293\n",
      "84 + 50 = 134\n",
      "84 + 98 = 182\n",
      "84 + 20 = 104\n",
      "84 + 19 = 103\n",
      "84 + 28 = 112\n",
      "84 + 69 = 153\n",
      "\n",
      "49 + 301 = 350\n",
      "49 + 187 = 236\n",
      "49 + 419 = 468\n",
      "49 + 209 = 258\n",
      "49 + 50 = 99\n",
      "49 + 98 = 147\n",
      "49 + 20 = 69\n",
      "49 + 19 = 68\n",
      "49 + 28 = 77\n",
      "49 + 69 = 118\n",
      "\n",
      "14 + 301 = 315\n",
      "14 + 187 = 201\n",
      "14 + 419 = 433\n",
      "14 + 209 = 223\n",
      "14 + 50 = 64\n",
      "14 + 98 = 112\n",
      "14 + 20 = 34\n",
      "14 + 19 = 33\n",
      "14 + 28 = 42\n",
      "14 + 69 = 83\n",
      "\n",
      "28 + 301 = 329\n",
      "28 + 187 = 215\n",
      "28 + 419 = 447\n",
      "28 + 209 = 237\n",
      "28 + 50 = 78\n",
      "28 + 98 = 126\n",
      "28 + 20 = 48\n",
      "28 + 19 = 47\n",
      "28 + 28 = 56\n",
      "28 + 69 = 97\n",
      "\n",
      "36 + 301 = 337\n",
      "36 + 187 = 223\n",
      "36 + 419 = 455\n",
      "36 + 209 = 245\n",
      "36 + 50 = 86\n",
      "36 + 98 = 134\n",
      "36 + 20 = 56\n",
      "36 + 19 = 55\n",
      "36 + 28 = 64\n",
      "36 + 69 = 105\n",
      "\n"
     ]
    }
   ],
   "source": [
    "flag = True\n",
    "for i in range_in_label[1]:\n",
    "    if flag:\n",
    "        flag=False\n",
    "        continue\n",
    "    for j in range_in_label[2]:\n",
    "        print(f\"{i} + {j} = {i+j}\")\n",
    "    print()"
   ]
  },
  {
   "cell_type": "code",
   "execution_count": 15,
   "id": "992b6d97-4072-499f-b0ae-ad19391e585e",
   "metadata": {},
   "outputs": [],
   "source": [
    "np.random.seed(10)\n",
    "all_user = {}\n",
    "flag1 = [0]*NUM_LABEL\n",
    "flag2 = [0]*NUM_LABEL\n",
    "available_label = set(list(range(NUM_LABEL)))\n",
    "\n",
    "for i in range(NUM_USER):\n",
    "    all_user[str(i)] = {}\n",
    "    \n",
    "    labels = np.random.choice(a=list(available_label), size=(NUM_LABEL_PER_USER,), replace=False)\n",
    "    for label in labels:\n",
    "        tmp = flag1[label]\n",
    "        tmp_ = tmp + range_in_label[label][flag2[label]]\n",
    "        all_user[str(i)][int(label)] = train_data_by_label[label][tmp:tmp_]\n",
    "        flag1[label] = tmp_\n",
    "        flag2[label] += 1\n",
    "        if flag2[label] == INTERVAL:\n",
    "            available_label.remove(label)"
   ]
  },
  {
   "cell_type": "code",
   "execution_count": 16,
   "id": "c0337127-c4eb-4964-9232-49ee17478d2e",
   "metadata": {},
   "outputs": [
    {
     "data": {
      "image/png": "[encoded data removed]",
      "text/plain": [
       "<Figure size 1080x1080 with 50 Axes>"
      ]
     },
     "metadata": {
      "needs_background": "light"
     },
     "output_type": "display_data"
    }
   ],
   "source": [
    "def check(all_client):\n",
    "    fig, axes = plt.subplots(nrows=5, ncols=10, figsize=(15, 15), sharey=True)\n",
    "    fig.subplots_adjust(hspace=0.5)\n",
    "\n",
    "    for i, key in enumerate(all_client.keys()):\n",
    "#         print(key, len(all_client[key]))\n",
    "#         for j in all_client[key].keys():\n",
    "#             print(f'{j}: {len(all_client[key][j])}', end=' ')\n",
    "#         print('\\n')\n",
    "\n",
    "        x = list(all_client[key].keys())\n",
    "        y = [len(all_client[key][t]) for t in all_client[key].keys()]\n",
    "        axes[int(i/10), int(i % 10)].bar(x=x, height=y)\n",
    "        axes[int(i/10), int(i%10)].set_title(sum(y))\n",
    "\n",
    "check(all_user)"
   ]
  },
  {
   "cell_type": "code",
   "execution_count": null,
   "id": "44c1df43-380f-4e7d-b45e-6f725ed39fd6",
   "metadata": {},
   "outputs": [],
   "source": [
    "def train_data_write_to_file(client_dict: dict):\n",
    "    all_train_data = {}\n",
    "    all_test_data = {}\n",
    "\n",
    "    users = list(client_dict.keys())\n",
    "    all_train_data['users'] = users\n",
    "    all_test_data['users'] = users\n",
    "\n",
    "    num_train_samples = []\n",
    "    num_test_samples = []\n",
    "    train_user_data = {}\n",
    "    test_user_data = {}\n",
    "    for user in users:\n",
    "        train_user_data[user] = {}\n",
    "        test_user_data[user] = {}\n",
    "\n",
    "        train_user_data[user]['x'] = []\n",
    "        train_user_data[user]['y'] = []\n",
    "        test_user_data[user]['x'] = []\n",
    "        test_user_data[user]['y'] = []\n",
    "\n",
    "        for key in client_dict[user].keys():\n",
    "            len_x = len(client_dict[user][key])\n",
    "            p = int(0.75*len_x)\n",
    "\n",
    "            train_user_data[user]['x'].extend(client_dict[user][key][:p])\n",
    "            train_user_data[user]['y'].extend([key]*p)\n",
    "\n",
    "            test_user_data[user]['x'].extend(client_dict[user][key][p:])\n",
    "            test_user_data[user]['y'].extend([key]*(len_x - p))\n",
    "\n",
    "        num_train_samples.append(len(train_user_data[user]['y']))\n",
    "        num_test_samples.append(len(test_user_data[user]['y']))\n",
    "\n",
    "    all_train_data['num_samples'] = num_train_samples\n",
    "    all_test_data['num_samples'] = num_test_samples\n",
    "    all_train_data['user_data'] = train_user_data\n",
    "    all_test_data['user_data'] = test_user_data\n",
    "\n",
    "    with open('./train_json/train.json', 'w') as outfile:\n",
    "        json.dump(all_train_data, outfile)\n",
    "    with open('./test_json/test.json', 'w') as outfile:\n",
    "        json.dump(all_test_data, outfile)\n",
    "\n",
    "write_to_file(all_user)"
   ]
  }
 ],
 "metadata": {
  "kernelspec": {
   "display_name": "torch_v1.9_gpu",
   "language": "python",
   "name": "torch_v1.9_gpu"
  },
  "language_info": {
   "codemirror_mode": {
    "name": "ipython",
    "version": 3
   },
   "file_extension": ".py",
   "mimetype": "text/x-python",
   "name": "python",
   "nbconvert_exporter": "python",
   "pygments_lexer": "ipython3",
   "version": "3.8.13"
  }
 },
 "nbformat": 4,
 "nbformat_minor": 5
}
